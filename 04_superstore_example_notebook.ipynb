{
 "cells": [
  {
   "cell_type": "markdown",
   "id": "a144d8da-a88a-4841-b00a-0e0f50bcbecd",
   "metadata": {},
   "source": [
    "# Superstore Example using KAWA's Python client\n",
    "\n",
    "## 1. Load the data into KAWA\n",
    "\n",
    "With this libraary, you can easily load any dataframe or parquet file into KAWA.\n",
    "It is very useful if you want to connect to your internal systems or APIs, if you want to ingest real time data,\n",
    "or if you have large volumes of data that you wish to ingest quickly.\n",
    "\n",
    "Many options are available on the loader API, please refer to our webiste and to our Githhub repository for documentation and tutorials. "
   ]
  },
  {
   "cell_type": "code",
   "execution_count": null,
   "id": "1928f1d4-6b68-4284-8597-bc3876a2cbb5",
   "metadata": {
    "tags": []
   },
   "outputs": [],
   "source": [
    "# Download superstore file and import it into a pandas dataframe\n",
    "import requests\n",
    "import pandas as pd\n",
    "\n",
    "url = 'https://gist.githubusercontent.com/nnbphuong/38db511db14542f3ba9ef16e69d3814c/raw/3a77ff9d97c504d3ec3210b12fde7242b8c6ab63/Superstore.csv'\n",
    "filename = '/tmp/superstore.csv'\n",
    "\n",
    "response = requests.get(url)\n",
    "with open(filename, 'wb') as file:\n",
    "    file.write(response.content)\n",
    "\n",
    "\n",
    "df = pd.read_csv(filename, \n",
    "                 parse_dates=['Order Date', 'Ship Date'], \n",
    "                 date_format='%Y-%m-%d')\n",
    "\n",
    "# KAWA supports both date and datetime objects\n",
    "df['Ship Date'] = df['Ship Date'].dt.date\n",
    "df['Order Date'] = df['Order Date'].dt.date\n"
   ]
  },
  {
   "cell_type": "code",
   "execution_count": null,
   "id": "25755147-a831-4bc0-beb8-c94660b72007",
   "metadata": {
    "tags": []
   },
   "outputs": [],
   "source": [
    "# Connect to the KAWA Api using KYWY\n",
    "from kywy.client.kawa_client import KawaClient as K\n",
    "kawa = K.load_client_from_environment()\n"
   ]
  },
  {
   "cell_type": "code",
   "execution_count": null,
   "id": "cf0ddc2c-c3c3-4c7c-99d0-cae9db20a7fc",
   "metadata": {
    "tags": []
   },
   "outputs": [],
   "source": [
    "# Load the dataframe into KAWA\n",
    "\n",
    "loader = kawa.new_data_loader(\n",
    "    df=df, \n",
    "    datasource_name='Super Store',\n",
    ")\n",
    "\n",
    "loader.create_datasource()\n",
    "\n",
    "loader.load_data(\n",
    "    create_sheet=True,\n",
    "    reset_before_insert=True,\n",
    ");\n"
   ]
  },
  {
   "cell_type": "markdown",
   "id": "26c46826-db78-4449-8c16-87c662d324ff",
   "metadata": {},
   "source": [
    "## 2. Perform computations\n",
    "\n",
    "Leverage KAWA query language to perform computations on the KAWA data warehouse.\n",
    "\n",
    "The datasets that have been filtered and aggregated are then accessible from your Python runtime environment as pandas dataframes.\n",
    "\n",
    "You can then combine them and manipulate them further to reach your objectives.\n",
    "\n",
    "__The two main advantages of this approach are:__ \n",
    "\n",
    "- Very high peformances: aggregates billions of rows in less than a second\n",
    "- Very low memory footprint on your environment, all the heavy lifintg happens on KAWA's warehouse.\n",
    "\n",
    "\n",
    "### 1.a Which 5 states are the most profitable?\n"
   ]
  },
  {
   "cell_type": "code",
   "execution_count": null,
   "id": "98b736f3-5db1-4dbd-ba0b-d047792b4f6c",
   "metadata": {
    "tags": []
   },
   "outputs": [],
   "source": [
    "query = (kawa\n",
    "         .sheet('Super Store')\n",
    "         .select(K.col('Profit').sum())\n",
    "         .group_by('State')\n",
    "         .order_by('Profit', ascending=False)\n",
    "         .limit(5))\n",
    "\n",
    "query.compute(use_group_names=True)"
   ]
  },
  {
   "cell_type": "markdown",
   "id": "3c33d63d-9744-44f1-b313-0c0682ff8ebb",
   "metadata": {},
   "source": [
    "### 1.b Show the monthly profit for the State of California in 2018"
   ]
  },
  {
   "cell_type": "code",
   "execution_count": null,
   "id": "5a59dbf1-2ef5-4c31-8591-1940cca5204e",
   "metadata": {
    "tags": []
   },
   "outputs": [],
   "source": [
    "from datetime import date\n",
    "\n",
    "query = (kawa\n",
    "         .sheet('Super Store')\n",
    "         .select(\n",
    "             K.col('Order Date'),\n",
    "             K.col('Profit').avg().alias('Avg Profit'),\n",
    "             K.col('Profit').median().alias('Median Profit'),\n",
    "         )\n",
    "         .group_by('Order Date')\n",
    "         .sample('YEAR_AND_MONTH')\n",
    "         .filter(K.col('State').eq('California'))\n",
    "         .filter(K.col('Order Date').date_range(\n",
    "             from_inclusive=date(2018,1,1), \n",
    "             to_inclusive=date(2018,12,31))\n",
    "         )\n",
    "         .no_limit())\n",
    "\n",
    "df = query.compute(use_group_names=True)\n",
    "\n",
    "df.plot(x='Order Date', title=\"Median and Avg profit in 2018, California\");"
   ]
  },
  {
   "cell_type": "markdown",
   "id": "d6fd6ac0-7285-4548-83fa-66498a0727b0",
   "metadata": {
    "tags": []
   },
   "source": [
    "### 1.c Show all cities whose average profit is greater than 50 with more than 100 unique orders"
   ]
  },
  {
   "cell_type": "code",
   "execution_count": null,
   "id": "f410482e-42c8-46c0-b38b-4ef77aa82fad",
   "metadata": {
    "tags": []
   },
   "outputs": [],
   "source": [
    "query = (kawa\n",
    "         .sheet('Super Store')\n",
    "         .select(\n",
    "             K.col('Profit').avg().alias('Avg Profit'),\n",
    "             K.col('Order Id').count_unique().alias('Num unique orders'),\n",
    "         )\n",
    "         .group_by('City')\n",
    "         .filter(K.col('Profit').avg().gt(50))\n",
    "         .filter(K.col('Order Id').count_unique().gt(100))\n",
    "         .order_by('Avg Profit')\n",
    "         .no_limit())\n",
    "\n",
    "query.compute(use_group_names=True)"
   ]
  },
  {
   "cell_type": "markdown",
   "id": "9db37205-569f-4d72-84e3-97e36dca8e90",
   "metadata": {},
   "source": [
    "### 1.d Show the repartition of customers per year and state"
   ]
  },
  {
   "cell_type": "code",
   "execution_count": null,
   "id": "fc0bb54f-5624-4c6f-beaa-f6e872958251",
   "metadata": {
    "tags": []
   },
   "outputs": [],
   "source": [
    "import seaborn as sns\n",
    "\n",
    "query = (kawa\n",
    "         .sheet('Super Store')\n",
    "         .select(\n",
    "             K.col('Order Date'),\n",
    "             K.col('State'),\n",
    "             K.col('Customer Name').count_unique().alias('num clients'),\n",
    "         )\n",
    "         .sample('YEAR',column_name='Order Date' )\n",
    "         .group_by('Order Date', 'State')\n",
    "         .filter(K.col('State').in_list(['California','Texas', 'Washington','New York']))\n",
    "         .no_limit())\n",
    "\n",
    "df = query.compute(use_group_names=True)\n",
    "\n",
    "matrix = df.pivot_table(index=\"group(0) Order Date\", columns=\"State\", values=\"num clients\")\n",
    "sns.heatmap(matrix,  annot=True, fmt=\"0.0f\");\n"
   ]
  }
 ],
 "metadata": {
  "kernelspec": {
   "display_name": "Python 3 (ipykernel)",
   "language": "python",
   "name": "python3"
  },
  "language_info": {
   "codemirror_mode": {
    "name": "ipython",
    "version": 3
   },
   "file_extension": ".py",
   "mimetype": "text/x-python",
   "name": "python",
   "nbconvert_exporter": "python",
   "pygments_lexer": "ipython3",
   "version": "3.10.13"
  }
 },
 "nbformat": 4,
 "nbformat_minor": 5
}
