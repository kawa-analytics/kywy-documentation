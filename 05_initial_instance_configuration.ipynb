{
 "cells": [
  {
   "cell_type": "markdown",
   "id": "376bd344-725a-490f-bfdd-873fa2e151c4",
   "metadata": {},
   "source": [
    "# Initial instance configuration\n",
    "\n",
    "This guide walks you through the initial steps to get started with a fresh installation of a KAWA server on premise.\n",
    "\n",
    "It requires an API key for an ADMIN user.\n"
   ]
  },
  {
   "cell_type": "code",
   "execution_count": null,
   "id": "8ee5e051-3224-47be-93dc-2d879d7c21db",
   "metadata": {
    "tags": []
   },
   "outputs": [],
   "source": [
    "from kywy.client.kawa_client import KawaClient as K\n",
    "\n",
    "kawa = K.load_client_from_environment()\n",
    "cmd = kawa.commands"
   ]
  },
  {
   "cell_type": "markdown",
   "id": "a7d9a873-3032-4dd8-bb28-a45a8e76c16f",
   "metadata": {},
   "source": [
    "## 1. Install the license\n",
    "\n",
    "This allows to load a license file into a running kawa instance. License files are json files. If you need a license, please visit www.kawa.ai.\n",
    "\n"
   ]
  },
  {
   "cell_type": "code",
   "execution_count": null,
   "id": "4f6813e0-2408-43d0-b854-d513e56d27af",
   "metadata": {
    "tags": []
   },
   "outputs": [],
   "source": [
    "kawa.commands.set_license(path_to_license_file='/tmp/path/to/license.json')"
   ]
  },
  {
   "cell_type": "markdown",
   "id": "fc3757c5-a433-4f80-82ec-713156834992",
   "metadata": {},
   "source": [
    "## 2. Change the setup admin password"
   ]
  },
  {
   "cell_type": "code",
   "execution_count": null,
   "id": "1c6a985c-db6f-4bd5-a117-0b9e57c4c234",
   "metadata": {
    "tags": []
   },
   "outputs": [],
   "source": [
    "cmd.change_user_password('setup-admin@kawa.io', '********');"
   ]
  },
  {
   "cell_type": "markdown",
   "id": "528718ed-2f6d-4998-bda9-afb77c6e8242",
   "metadata": {},
   "source": [
    "## 3. Activate the desired features\n",
    "\n",
    "This will toggle the feature flags of the KAWA instance. The available flags are:\n",
    "\n",
    "- data-patching (Allows users to edit values within the grid views)\n",
    "- list-principals (Allow to show all the users in user selection lists - like members of workspaces etc..)\n",
    "- scripts (Enable script support)\n",
    "- automations (Enable automation support)\n",
    "- dashboard-export (Enable dashboard export)\n",
    "- data-sample (Shows a list of samples in the datasource section)"
   ]
  },
  {
   "cell_type": "code",
   "execution_count": null,
   "id": "d23b6424-4058-45f7-8998-a41c69911443",
   "metadata": {
    "tags": []
   },
   "outputs": [],
   "source": [
    "cmd.toggle_feature(feature_name='data-samples', is_enabled=True)\n",
    "cmd.toggle_feature(feature_name='automations', is_enabled=True);\n",
    "cmd.toggle_feature(feature_name='scripts', is_enabled=True);"
   ]
  },
  {
   "cell_type": "markdown",
   "id": "47222d83-eced-4f4d-af16-c3816222c03b",
   "metadata": {},
   "source": [
    "## 4. Configure the SMTP server (optional)\n",
    "\n",
    "This step is required only if you want KAWA to be able to send emails through your company SMTP server.\n",
    "The credentials of the SMTP server are configured during the isntallation process.\n",
    "\n",
    "__Please note that the server needs to be restarted for the SMTP parameters to be taken in account.__"
   ]
  },
  {
   "cell_type": "code",
   "execution_count": null,
   "id": "f7dbb679-1f2b-4d07-bc19-568f98b28ff9",
   "metadata": {
    "tags": []
   },
   "outputs": [],
   "source": [
    "# Turn on SMTP communications\n",
    "# To turn back off, use: LOG instead of SMTP\n",
    "cmd.replace_communication_provider_type('SMTP')\n",
    "\n",
    "# Configure the SMTP server\n",
    "# Use extraSmtpProperties to put any additional configuration from\n",
    "#  https://javadoc.io/doc/com.sun.mail/jakarta.mail/latest/jakarta.mail/com/sun/mail/smtp/package-summary.html\n",
    "cmd.replace_configuration('SmtpConfig', {\n",
    "    'host': 'smtp.wayne.com',\n",
    "    'port': 2525,\n",
    "    'sslEnabled': False,\n",
    "    'startTlsEnabled': True,\n",
    "    'authenticationEnabled': True,\n",
    "    'extraSmtpProperties': {\n",
    "        \"mail.smtp.ssl.trust\": \"some-domain.com\"\n",
    "    }\n",
    "})\n",
    "\n",
    "# Defines a subject + sender for email activation emails\n",
    "cmd.replace_configuration('EmailActivatorConfiguration', {\n",
    "    'sender': 'postmaster@kawa-analytics.com',\n",
    "    'subject': 'One last step to activate your account'\n",
    "})\n",
    "\n",
    "# Defines a subject + sender for autimation emails\n",
    "cmd.replace_configuration('AutomationBehaviourConfiguration', {\n",
    "    'emailSender': 'robot@kawa-analytics.com',\n",
    "    'emailSubject': 'New automation from KAWA'\n",
    "});"
   ]
  },
  {
   "cell_type": "markdown",
   "id": "755d3fd5-17f5-4045-8ba6-098d78848f29",
   "metadata": {},
   "source": [
    "## 5. Connect a Python script runner (optional)\n",
    "\n",
    "Repeat this step for each workspace you wish to connect a python runner to.\n",
    "It will allow users from this workspace to benefit from Python columns and Python automations."
   ]
  },
  {
   "cell_type": "code",
   "execution_count": null,
   "id": "f72795dd-9865-4a44-bd61-11d3e348ebb3",
   "metadata": {
    "tags": []
   },
   "outputs": [],
   "source": [
    "# Will activate a runner in this workspace\n",
    "WORKSPACE_ID=1\n",
    "kawa.set_active_workspace_id(workspace_id=WORKSPACE_ID)\n",
    "\n",
    "\n",
    "cmd.add_script_runner(\n",
    "    name='Main runner',\n",
    "    host='kawa-script-runner',\n",
    "    port=8815,\n",
    "    tls=False\n",
    ")\n",
    "\n",
    "print(kawa.runner_health())"
   ]
  },
  {
   "cell_type": "markdown",
   "id": "9566ae7d-0ddf-43c1-8e07-414357d987de",
   "metadata": {
    "tags": []
   },
   "source": [
    "## 6. Configure SSO (optional)\n",
    "\n",
    "KAWA supports SAML based SSO authentication. Use these step to configure it.\n",
    "By default, KAWA will use its own authentication mechanism and act as an IDP.\n",
    "\n",
    "__Please note that the server needs to be restarted for the Authentication parameters to be taken in account.__"
   ]
  },
  {
   "cell_type": "code",
   "execution_count": null,
   "id": "fbe78afe-996d-4bd8-8814-364990abcbdc",
   "metadata": {
    "tags": []
   },
   "outputs": [],
   "source": [
    "cmd.replace_configuration('SamlConfiguration', {\n",
    "    'nameClaim': 'http://schemas.xmlsoap.org/ws/2005/05/identity/claims/name',\n",
    "    'emailClaim': 'http://schemas.xmlsoap.org/ws/2005/05/identity/claims/emailaddress',\n",
    "    'idpMetadataUrl': 'https://portal.sso.us-east-1.amazonaws.com/saml/metadata/abcdef1234567890',\n",
    "    'serviceProviderHost': 'https://kawa.wayne.io',\n",
    "})\n",
    "\n",
    "cmd.replace_configuration('GlobalAuthenticationConfiguration', {\n",
    "  'setupAdminUniqueId': 'setup-admin@kawa.io',\n",
    "  'authenticationMethod': 'SAML'\n",
    "});"
   ]
  }
 ],
 "metadata": {
  "kernelspec": {
   "display_name": "Python 3 (ipykernel)",
   "language": "python",
   "name": "python3"
  },
  "language_info": {
   "codemirror_mode": {
    "name": "ipython",
    "version": 3
   },
   "file_extension": ".py",
   "mimetype": "text/x-python",
   "name": "python",
   "nbconvert_exporter": "python",
   "pygments_lexer": "ipython3",
   "version": "3.10.13"
  }
 },
 "nbformat": 4,
 "nbformat_minor": 5
}
