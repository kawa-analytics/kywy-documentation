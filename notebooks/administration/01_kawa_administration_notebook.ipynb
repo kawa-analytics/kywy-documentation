{
 "cells": [
  {
   "cell_type": "markdown",
   "id": "e9518e38-24c5-4b60-a1c4-fb2edb097a1f",
   "metadata": {},
   "source": [
    "# KAWA Administration API"
   ]
  },
  {
   "cell_type": "markdown",
   "id": "be9aa930-9106-4b25-8352-67e97d32fdac",
   "metadata": {},
   "source": [
    "Use the following snipper to authenticate in KAWA, using the credentials from the `.env` file.\n",
    "\n",
    "Please refer to README.md to setup your environmnent.\n",
    "\n",
    "All those commands require an `ADMIN` or a `SETUP_ADMIN` account to be executed.\n"
   ]
  },
  {
   "cell_type": "code",
   "execution_count": null,
   "id": "d6048a11-95e0-4c3f-997d-5fdf2bb5270d",
   "metadata": {
    "tags": []
   },
   "outputs": [],
   "source": [
    "from kywy.client.kawa_client import KawaClient as K\n",
    "\n",
    "kawa = K.load_client_from_environment()\n",
    "cmd = kawa.commands"
   ]
  },
  {
   "cell_type": "markdown",
   "id": "53180ff0-e23c-493c-82f2-def77c13c64f",
   "metadata": {},
   "source": [
    "## 1. User management\n",
    "\n",
    "\n",
    "### 1.a Create users\n",
    "\n",
    "This snippet will create two users with the specified password and names and add them to the workspace called WAYNE.\n",
    "If the workspace does not exist, it will be created."
   ]
  },
  {
   "cell_type": "code",
   "execution_count": null,
   "id": "ba47a5c5-e1bd-456a-849c-6d2433d702ec",
   "metadata": {
    "tags": []
   },
   "outputs": [],
   "source": [
    "cmd.create_users_in_workspace(\n",
    "    user_list=[\n",
    "        {\n",
    "            'email': 'bruce@wayne.com',\n",
    "            'password': 'aA1!dzfegrS$S',\n",
    "            'first_name': 'Bruce',\n",
    "            'last_name': 'Wayne',\n",
    "        },\n",
    "        {\n",
    "            'email': 'lucius@wayne.com',\n",
    "            'password': 'hts6Hrsgs%rte',\n",
    "            'first_name': 'Lucius',\n",
    "            'last_name': 'Fox',\n",
    "        },\n",
    "    ],\n",
    "    workspace_name='WAYNE',\n",
    "    \n",
    "    # Set this to True when your instance has a whitelist of user.\n",
    "    # DO NOT use if you are unsure. It will create a white list if it does not exit and \n",
    "    # potentially cut out every user who can authenticate.\n",
    "    add_users_to_whitelist=False,\n",
    ")\n",
    "\n"
   ]
  },
  {
   "cell_type": "markdown",
   "id": "3de29f26-cc6c-4bc4-a8bb-795389fbc6d7",
   "metadata": {},
   "source": [
    "### 1.b Change the password for a user"
   ]
  },
  {
   "cell_type": "code",
   "execution_count": null,
   "id": "9e848dbc-7d99-4ded-9956-7496c39a9228",
   "metadata": {
    "tags": []
   },
   "outputs": [],
   "source": [
    "cmd.change_user_password(\n",
    "    email_or_unique_id='lucius@wayne.com', \n",
    "    new_password='bB7@klk45DSGgrs!op',\n",
    ");"
   ]
  },
  {
   "cell_type": "markdown",
   "id": "22fcf0d7-75a0-4e4d-84f1-cbd792225084",
   "metadata": {
    "tags": []
   },
   "source": [
    "### 1.c Change the role of a user\n",
    "\n",
    "The available roles in KAWA are `ADMIN_ROLE` and `READER_ROLE`.\n",
    "\n",
    "ADMIN users will be able to manage the application user accounts. They will also be granted all the privileges in KAWA, in particular: access to all workspapces and access to all data, regardless of Row Level and Column Level security policies.\n",
    "\n",
    "A third role is available which cannot be assigned (nor removed): `SETUP_ADMIN_ROLE`. Only one user in KAWA will have this privilege."
   ]
  },
  {
   "cell_type": "code",
   "execution_count": null,
   "id": "f60b4a5c-4fa1-4ed0-ba43-0d92164154c6",
   "metadata": {
    "tags": []
   },
   "outputs": [],
   "source": [
    "cmd.replace_user_role(\n",
    "    email_or_unique_id='bruce@wayne.com', \n",
    "    new_role='READER_ROLE',\n",
    ");"
   ]
  },
  {
   "cell_type": "markdown",
   "id": "5b5ff04e-ce46-4dfe-ae0b-88dd7645b57d",
   "metadata": {},
   "source": [
    "### 1.d Replace the overall permissions of users\n",
    "\n",
    "Those permissions apply to one user across the entire app, regardless of the workspace in which the user is authenticated.\n",
    "\n",
    "The available permissions are:\n",
    "- GENERATIVE_AI: Grant to the user the access to AI features on all workspaces"
   ]
  },
  {
   "cell_type": "code",
   "execution_count": null,
   "id": "b567c921-5c31-4971-a6f4-3b96cc9dd0db",
   "metadata": {
    "tags": []
   },
   "outputs": [],
   "source": [
    "cmd.replace_permissions(\n",
    "    user_email_or_id_list=['lucius@wayne.com'],\n",
    "    permissions=['GENERATIVE_AI'],\n",
    ");"
   ]
  },
  {
   "cell_type": "markdown",
   "id": "9375e995-8d93-4b07-aea6-c43c5aa02c80",
   "metadata": {},
   "source": [
    "### 1.e Replace the forbidden data source types for users\n",
    "\n",
    "This will restrict type of data users can upload into KAWA.\n",
    "It does not affect the data that users can read from KAWA.\n",
    "\n",
    "The available types are:\n",
    "- TRANSFORMATION: Allows to create transformed datasource from sheets\n",
    "- TIME_SERIES: Allows to create specific TimeSeries datasources for advanced TimeSeries Analytics\n",
    "- USER_FILE: Allows to upload files into KAWA (csv, csv.gz, etc...)\n",
    "- EXTERNAL_SYSTEM: Allows to set up ETLs from external systems such as a database, google sheet, etc..\n",
    "- PYTHON_CLIENT: Allows to load data into KAWA via the python data loader\n",
    "- LIVE_CONNECT: Allows to add tables from the underlying data warehouse\n"
   ]
  },
  {
   "cell_type": "code",
   "execution_count": null,
   "id": "07b3dfc2-68fc-41d5-8b98-05472d8c931d",
   "metadata": {
    "tags": []
   },
   "outputs": [],
   "source": [
    "cmd.replace_forbidden_data_types(\n",
    "    user_email_or_id_list=[ 'lucius@wayne.com'],\n",
    "    forbidden_types=['TRANSFORMATION','TIME_SERIES','LIVE_CONNECT', 'EXTERNAL_SYSTEM'],\n",
    ");"
   ]
  },
  {
   "cell_type": "markdown",
   "id": "abc095ce-fa2c-4236-aa19-082ed1ee459a",
   "metadata": {},
   "source": [
    "### 1.f Activate and Deactivate user accounts\n",
    "\n",
    "This allows administrator to deactivate or activate user accounts. Once a user's account has been deactivated, they immediately lose access to KAWA, GUI and Python client."
   ]
  },
  {
   "cell_type": "code",
   "execution_count": null,
   "id": "b89b6b5f-6107-42ff-94c6-e35e4dd7d16a",
   "metadata": {
    "tags": []
   },
   "outputs": [],
   "source": [
    "cmd.toggle_users_status(\n",
    "    user_email_or_id_list=[ 'lucius@wayne.com'],\n",
    "    active=True,\n",
    ");"
   ]
  },
  {
   "cell_type": "markdown",
   "id": "8b35d879-a956-4fad-8b5f-a417d5b181b6",
   "metadata": {},
   "source": [
    "## 2. Global management\n",
    "\n",
    "### 2.a Activate Features\n",
    "\n",
    "This will toggle the feature flags of the KAWA instance.\n",
    "The available flags are:\n",
    "\n",
    "- data-patching (Allows users to edit values within the grid views)\n",
    "- tutorial-videos (Add a list of videos in the right vertical section)\n",
    "- support-chat (Enable support chat with kawa.ai team)\n",
    "- ai-support (Enable AI features in the app)\n",
    "- list-principals (Allow to show all the users in user selection lists - like members of workspaces etc..)\n",
    "- scripts (Enable script support)\n",
    "- automations (Enable automation support)\n",
    "- dashboard-export (Enable dashboard export)\n",
    "- data-sample (Shows a list of samples in the datasource section)\n",
    "- user-sign-up (When enabled, users can signup by email through the login page)\n"
   ]
  },
  {
   "cell_type": "code",
   "execution_count": null,
   "id": "5a179caa-820c-4be9-8c13-798721f498aa",
   "metadata": {
    "tags": []
   },
   "outputs": [],
   "source": [
    "cmd.toggle_feature(feature_name='data-samples', is_enabled=True)\n",
    "cmd.toggle_feature(feature_name='list-principals', is_enabled=True)\n",
    "cmd.toggle_feature(feature_name='automations', is_enabled=True);\n",
    "cmd.toggle_feature(feature_name='ai-support', is_enabled=True);\n",
    "cmd.toggle_feature(feature_name='agents', is_enabled=True);\n",
    "cmd.toggle_feature(feature_name='scripts', is_enabled=True);"
   ]
  },
  {
   "cell_type": "markdown",
   "id": "b9e46331-aee8-44c6-b2e5-cd9a51b18873",
   "metadata": {},
   "source": [
    "### 2.b Associate a license file to the KAWA instance\n",
    "\n",
    "This allows to load a license file into a running kawa instance. License files are json files.\n",
    "If you need a license, please visit www.kawa.ai."
   ]
  },
  {
   "cell_type": "code",
   "execution_count": null,
   "id": "357065f5-238b-447b-89a9-60d1d164e4ce",
   "metadata": {
    "tags": []
   },
   "outputs": [],
   "source": [
    "kawa.commands.set_license(path_to_license_file='/tmp/short.json')"
   ]
  },
  {
   "cell_type": "markdown",
   "id": "6833f1e3-678e-4b96-829b-34e839f5fe32",
   "metadata": {
    "tags": []
   },
   "source": [
    "### 2.c Activate a Python runner for a workspace\n",
    "\n",
    "This will attach a python runner in a workspace, allowing to benefit from all the Python powered features of the platfom.\n",
    "Please refer to https://docs.kawa.ai/python-script-runners#167e42f9ebbe42518f1e9655c6a8853c for detils about the Python runner configuration."
   ]
  },
  {
   "cell_type": "code",
   "execution_count": null,
   "id": "1b07635e-dffe-4df5-9e28-2d0ab64ada91",
   "metadata": {
    "tags": []
   },
   "outputs": [],
   "source": [
    "import os\n",
    "import json\n",
    "\n",
    "# Will activate a runner in this workspace\n",
    "WORKSPACE_ID=4\n",
    "kawa.set_active_workspace_id(workspace_id=WORKSPACE_ID)\n",
    "\n",
    "cmd.add_script_runner(\n",
    "    name='Main runner',\n",
    "    host='runner.wayne.com',\n",
    "    port=8815,\n",
    "    tls=False,\n",
    "    private_key='2ef105d2a8c90074cfe1711cf7cb79906b94f2436ceba3198a4f8ce0e11ed825'\n",
    ")\n",
    "\n",
    "health = kawa.runner_health()\n",
    "\n",
    "# Check the \"healthy\" flag, it should be set to True\n",
    "print(json.dumps(health, indent=4))"
   ]
  },
  {
   "cell_type": "markdown",
   "id": "2d1d9811-2212-4299-87a1-69f241d48007",
   "metadata": {},
   "source": [
    "### 2.d Modify a script runner configuration\n",
    "\n",
    "The command to create a runner, if executed multiple times with different parameters, will not amend the configuration of existing runners. Please use the following commands to do so."
   ]
  },
  {
   "cell_type": "code",
   "execution_count": null,
   "id": "a769f5e0-9427-4037-8f0d-8c9132c75e4b",
   "metadata": {
    "tags": []
   },
   "outputs": [],
   "source": [
    "# Will modify a runner in this workspace\n",
    "WORKSPACE_ID=2\n",
    "kawa.set_active_workspace_id(workspace_id=WORKSPACE_ID)\n",
    "\n",
    "cmd.replace_script_runner_location(host='127.0.0.1', port=8816, tls=False)\n",
    "cmd.replace_script_runner_private_key(private_key=os.getenv('KAWA_AUTOMATION_SERVER_AES_KEY'));"
   ]
  },
  {
   "cell_type": "markdown",
   "id": "918977a9-7563-40ac-854c-9b1ada34b901",
   "metadata": {},
   "source": [
    "### 2.e Define and configure a Global Python runner\n",
    "\n",
    "By enabling a Global Runner, all the workspaces will automatically inherit from this configuration.\n",
    "It can be overriden useing the commands described above.\n",
    "A restart of KAWA is necessary for this to be taken in account."
   ]
  },
  {
   "cell_type": "code",
   "execution_count": null,
   "id": "7c1e1db1-4619-45db-94b6-561083e4b16b",
   "metadata": {},
   "outputs": [],
   "source": [
    "cmd.replace_configuration('GlobalPythonRunnerConfig', {\n",
    "    'name':'Main runner',\n",
    "    'host':'kawa-script-runner',\n",
    "    'port':8815,\n",
    "    'tls':False,\n",
    "    'enabled':True\n",
    "})"
   ]
  },
  {
   "cell_type": "markdown",
   "id": "f7543239-3479-459d-88f6-283143689310",
   "metadata": {},
   "source": [
    "### 2.f Manage python dependencies (When not using a third party Version Control System)\n",
    "\n",
    "When using the KAWA platform to store your scripts (this is defined on the GUI per workspace), you can set the list of available modules using the following command. The syntax is similar to the one used in a standard `requirements.txt` file.\n",
    "\n",
    "By default, the following packages are installed:\n",
    "\n",
    "```\n",
    "pandas>=2.2.2\n",
    "faker>=28.4.1\n",
    "yfinance>=0.2.41\n",
    "slack_sdk==3.31.0\n",
    "tabulate==0.9.0\n",
    "gender-detector==0.1.0\n",
    "textblob==0.18.0\n",
    "scipy==1.14.0\n",
    "scikit-learn==1.5.1\n",
    "geopy==2.4.1\n",
    "```\n",
    "\n",
    "\n",
    "(Note that nothing needs to be restarted for this change to be taken in account)\n"
   ]
  },
  {
   "cell_type": "code",
   "execution_count": null,
   "id": "dc432cff-11e9-4aa9-8d2b-f8ad50833194",
   "metadata": {},
   "outputs": [],
   "source": [
    "cmd.replace_configuration('LocalFileStoreConfig', {\n",
    "    'requirements': [\n",
    "        \"pandas>=2.2.2\",\n",
    "        \"faker>=37.0.0\",\n",
    "        \"kywy>=0.29.2\",\n",
    "        \"google-cloud-pubsub==2.29.0\",\n",
    "        \"yfinance>=0.2.41\",\n",
    "        \"slack_sdk==3.31.0\",\n",
    "        \"tabulate==0.9.0\",\n",
    "        \"gender-detector==0.1.0\",\n",
    "        \"textblob==0.18.0\",\n",
    "        \"scipy==1.14.0\",\n",
    "        \"scikit-learn==1.5.1\",\n",
    "        \"geopy==2.4.1\",\n",
    "        \"psycopg2-binary\",\n",
    "        \"gspread\",\n",
    "        \"oauth2client\",\n",
    "        \"xgboost\",\n",
    "        \"boto3==1.26.112\"\n",
    "  ]\n",
    "})"
   ]
  },
  {
   "cell_type": "markdown",
   "id": "e0630204-e358-4d79-9b60-5f7335bd311e",
   "metadata": {},
   "source": [
    "### 2.g Manage workspaces\n",
    "\n",
    "This step lets you choose the behavious of workspaces creation.\n",
    "\n",
    "__Please note that the server needs to be restarted for these parameters to be taken in account.__"
   ]
  },
  {
   "cell_type": "code",
   "execution_count": null,
   "id": "7206d667-3d57-4608-a266-2e1263949fea",
   "metadata": {},
   "outputs": [],
   "source": [
    "cmd.replace_configuration('WorkspaceConfiguration', {\n",
    "    \n",
    "    # If set to True, then only admins will be able to create new workspaces\n",
    "    'workspaceCreationRestrictedToAdmins': True,\n",
    "    \n",
    "    # Two possible values: \n",
    "    # 'CREATE_NEW'  > KAWA will create a personal workspace for the user when they login for the first time\n",
    "    # 'USE_DEFAULT' > KAWA will add all new users into 'defaultWorkspaceId'\n",
    "    'workspaceInitializationMode': 'USE_DEFAULT', \n",
    "    \n",
    "    # This is required if the workspaceInitializationMode is set to USE_DEFAULT\n",
    "    'defaultWorkspaceId': '1', \n",
    "})"
   ]
  },
  {
   "cell_type": "markdown",
   "id": "a3c4b1b9-dd53-4bcb-be53-43afe9d12b12",
   "metadata": {},
   "source": [
    "ℹ️ If you whish to archive a workspace, use the following command.\n",
    "\n",
    "The second argument: `migrateMembersToWorkspaceId` will migrate users whose home workspace is the one being archived. The home workspace is the workspace to which users will be redirected to if they lose access to their current workspace."
   ]
  },
  {
   "cell_type": "code",
   "execution_count": null,
   "id": "d793a030-e462-4d57-9da3-970c46b321d2",
   "metadata": {
    "tags": []
   },
   "outputs": [],
   "source": [
    "cmd.run_command(\n",
    "   command_name='ArchiveWorkspace',\n",
    "   command_parameters={\n",
    "           'workspaceId':'Workspace id to delete',\n",
    "           'migrateMembersToWorkspaceId':'Migrate users over to this workspace id'\n",
    "   }\n",
    ")"
   ]
  },
  {
   "cell_type": "markdown",
   "id": "8c2dd060-b831-460e-8f8e-21394656a20f",
   "metadata": {},
   "source": [
    "## 3. Reporting\n",
    "\n",
    "### 3.a User and workspace members reporting"
   ]
  },
  {
   "cell_type": "code",
   "execution_count": null,
   "id": "d061598e-71ca-4565-b204-d1aff2f57fa7",
   "metadata": {
    "tags": []
   },
   "outputs": [],
   "source": [
    "# List of all users in KAWA\n",
    "kawa.reporting().generate_user_list_report()"
   ]
  },
  {
   "cell_type": "code",
   "execution_count": null,
   "id": "0402d2cd-c561-4861-8cbd-86e1e8cf7202",
   "metadata": {
    "tags": []
   },
   "outputs": [],
   "source": [
    "# List of workspace members in KAWA\n",
    "kawa.reporting().generate_workspace_member_list_report()"
   ]
  },
  {
   "cell_type": "markdown",
   "id": "cab3ea47-a061-4de4-9d35-b11ee753ca3a",
   "metadata": {},
   "source": [
    "## 4. Query cache operations\n",
    "\n",
    "The query cache can be invalidated from the kywy library. \n",
    "If your setup relies on Live Connections _(to an external warehouse/lakehouse or to databases that are not managed by KAWA)_, use the following command from your ETL processes to invalidate the query caches at the appropriate times.\n",
    "\n",
    "> ⚠️ This command will return the list of the KAWA datasources whose query caches were invalidated. If it returns an empty array, it means that no datasources were found on KAWA associated with the table. You might consider double checking the paramters of the command."
   ]
  },
  {
   "cell_type": "code",
   "execution_count": null,
   "id": "408a4fff-1dd6-4ce4-a741-b0f4235175d2",
   "metadata": {},
   "outputs": [],
   "source": [
    "cmd.run_command(\n",
    "    command_name='ClearQueryCacheForTable',\n",
    "    command_parameters={\n",
    "        'catalog':'default', # Name of your database/catalog\n",
    "        'schema': '',        # Name of the schema > It is an empty string for Clickhouse\n",
    "        'table': 'trades'    # Name of the table\n",
    "    }\n",
    ")"
   ]
  }
 ],
 "metadata": {
  "kernelspec": {
   "display_name": "Python 3 (ipykernel)",
   "language": "python",
   "name": "python3"
  },
  "language_info": {
   "codemirror_mode": {
    "name": "ipython",
    "version": 3
   },
   "file_extension": ".py",
   "mimetype": "text/x-python",
   "name": "python",
   "nbconvert_exporter": "python",
   "pygments_lexer": "ipython3",
   "version": "3.10.16"
  }
 },
 "nbformat": 4,
 "nbformat_minor": 5
}
