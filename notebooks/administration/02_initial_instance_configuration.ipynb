{
 "cells": [
  {
   "cell_type": "markdown",
   "id": "376bd344-725a-490f-bfdd-873fa2e151c4",
   "metadata": {},
   "source": [
    "# Initial instance configuration\n",
    "\n",
    "This guide walks you through the initial steps to get started with a fresh installation of a KAWA server on premise.\n",
    "\n",
    "It requires an API key for an ADMIN user. \n",
    "\n",
    "Please make sure to follow the installation steps for KYWY (https://github.com/kawa-analytics/kywy-documentation)\n"
   ]
  },
  {
   "cell_type": "code",
   "execution_count": null,
   "id": "8ee5e051-3224-47be-93dc-2d879d7c21db",
   "metadata": {
    "tags": []
   },
   "outputs": [],
   "source": [
    "from kywy.client.kawa_client import KawaClient as K\n",
    "\n",
    "kawa = K.load_client_from_environment()\n",
    "cmd = kawa.commands"
   ]
  },
  {
   "cell_type": "markdown",
   "id": "a7d9a873-3032-4dd8-bb28-a45a8e76c16f",
   "metadata": {},
   "source": [
    "## 1. Install the license\n",
    "\n",
    "This allows to load a license file into a running kawa instance. License files are json files. If you need a license, please visit www.kawa.ai.\n",
    "\n"
   ]
  },
  {
   "cell_type": "code",
   "execution_count": null,
   "id": "4f6813e0-2408-43d0-b854-d513e56d27af",
   "metadata": {
    "tags": []
   },
   "outputs": [],
   "source": [
    "kawa.commands.set_license(path_to_license_file='/tmp/path/to/license.json')"
   ]
  },
  {
   "cell_type": "markdown",
   "id": "fc3757c5-a433-4f80-82ec-713156834992",
   "metadata": {},
   "source": [
    "## 2. Change the setup admin password"
   ]
  },
  {
   "cell_type": "code",
   "execution_count": null,
   "id": "1c6a985c-db6f-4bd5-a117-0b9e57c4c234",
   "metadata": {
    "tags": []
   },
   "outputs": [],
   "source": [
    "cmd.change_user_password('setup-admin@kawa.io', '********');"
   ]
  },
  {
   "cell_type": "markdown",
   "id": "528718ed-2f6d-4998-bda9-afb77c6e8242",
   "metadata": {},
   "source": [
    "## 3. Activate the desired features\n",
    "\n",
    "This will toggle the feature flags of the KAWA instance. The available flags are:\n",
    "\n",
    "- list-principals (Allow to show all the users in user selection lists - like members of workspaces etc..)\n",
    "- scripts (Enable script support)\n",
    "- automations (Enable automation support)\n",
    "- dashboard-export (Enable dashboard export)\n",
    "- data-sample (Shows a list of samples in the datasource section)\n",
    "- user-sign-up (When activated, users can signup on the login page with their email address)"
   ]
  },
  {
   "cell_type": "code",
   "execution_count": null,
   "id": "d23b6424-4058-45f7-8998-a41c69911443",
   "metadata": {
    "tags": []
   },
   "outputs": [],
   "source": [
    "cmd.toggle_feature(feature_name='data-samples', is_enabled=True)\n",
    "cmd.toggle_feature(feature_name='automations', is_enabled=True);\n",
    "cmd.toggle_feature(feature_name='scripts', is_enabled=True);\n",
    "cmd.toggle_feature(feature_name='user-sign-up', is_enabled=True);"
   ]
  },
  {
   "cell_type": "markdown",
   "id": "46674b13-9416-494c-9f6f-67e0f304abea",
   "metadata": {
    "tags": []
   },
   "source": [
    "## 4. Configure the workspace creation behaviour\n",
    "\n",
    "This step lets you choose the behavious of workspaces creation.\n",
    "\n",
    "__Please note that the server needs to be restarted for these parameters to be taken in account.__"
   ]
  },
  {
   "cell_type": "code",
   "execution_count": null,
   "id": "f8abcc57-e836-4682-8451-96501f50e188",
   "metadata": {
    "tags": []
   },
   "outputs": [],
   "source": [
    "cmd.replace_configuration('WorkspaceConfiguration', {\n",
    "    \n",
    "    # If set to True, then only admins will be able to create new workspaces\n",
    "    'workspaceCreationRestrictedToAdmins': True,\n",
    "    \n",
    "    # Two possible values: \n",
    "    # 'CREATE_NEW'  > KAWA will create a personal workspace for the user when they login for the first time\n",
    "    # 'USE_DEFAULT' > KAWA will add all new users into 'defaultWorkspaceId'\n",
    "    'workspaceInitializationMode': 'USE_DEFAULT', \n",
    "    \n",
    "    # This is required if the workspaceInitializationMode is set to USE_DEFAULT\n",
    "    'defaultWorkspaceId': '1', \n",
    "})"
   ]
  },
  {
   "cell_type": "markdown",
   "id": "47222d83-eced-4f4d-af16-c3816222c03b",
   "metadata": {},
   "source": [
    "## 5. Configure the SMTP server (optional)\n",
    "\n",
    "This step is required only if you want KAWA to be able to send emails through your company SMTP server.\n",
    "The credentials of the SMTP server are configured during the installation process.\n",
    "\n",
    "__Please note that the server needs to be restarted for the SMTP parameters to be taken in account.__"
   ]
  },
  {
   "cell_type": "code",
   "execution_count": null,
   "id": "f7dbb679-1f2b-4d07-bc19-568f98b28ff9",
   "metadata": {
    "tags": []
   },
   "outputs": [],
   "source": [
    "# Turn on SMTP communications\n",
    "# To turn back off, use: LOG instead of SMTP\n",
    "cmd.replace_communication_provider_type('SMTP')\n",
    "\n",
    "# Configure the SMTP server\n",
    "# Use extraSmtpProperties to put any additional configuration from\n",
    "#  https://javadoc.io/doc/com.sun.mail/jakarta.mail/latest/jakarta.mail/com/sun/mail/smtp/package-summary.html\n",
    "cmd.replace_configuration('SmtpConfig', {\n",
    "    'host': 'smtp.wayne.com',\n",
    "    'port': 2525,\n",
    "    'sslEnabled': False,\n",
    "    'startTlsEnabled': True,\n",
    "    'authenticationEnabled': True,\n",
    "    'extraSmtpProperties': {\n",
    "        \"mail.smtp.ssl.trust\": \"some-domain.com\"\n",
    "    }\n",
    "})\n",
    "\n",
    "# Defines a subject + sender for email activation emails\n",
    "cmd.replace_configuration('EmailActivatorConfiguration', {\n",
    "    'sender': 'postmaster@kawa-analytics.com',\n",
    "    'subject': 'One last step to activate your account'\n",
    "})\n",
    "\n",
    "# Defines a subject + sender for autimation emails\n",
    "cmd.replace_configuration('AutomationBehaviourConfiguration', {\n",
    "    'emailSender': 'robot@kawa-analytics.com',\n",
    "    'emailSubject': 'New automation from KAWA'\n",
    "});"
   ]
  },
  {
   "cell_type": "markdown",
   "id": "755d3fd5-17f5-4045-8ba6-098d78848f29",
   "metadata": {},
   "source": [
    "## 6. Connect a Python script runner (optional)\n",
    "\n",
    "Repeat this step for each workspace you wish to connect a python runner to.\n",
    "It will allow users from this workspace to benefit from Python columns and Python automations."
   ]
  },
  {
   "cell_type": "code",
   "execution_count": null,
   "id": "f72795dd-9865-4a44-bd61-11d3e348ebb3",
   "metadata": {
    "tags": []
   },
   "outputs": [],
   "source": [
    "# Will activate a runner in this workspace\n",
    "WORKSPACE_ID=1\n",
    "kawa.set_active_workspace_id(workspace_id=WORKSPACE_ID)\n",
    "\n",
    "\n",
    "cmd.add_script_runner(\n",
    "    name='Main runner',\n",
    "    host='kawa-script-runner',\n",
    "    port=8815,\n",
    "    tls=False\n",
    ")\n",
    "\n",
    "print(kawa.runner_health())"
   ]
  },
  {
   "cell_type": "markdown",
   "id": "487654cc-c1aa-44eb-9932-b192a99dde4c",
   "metadata": {},
   "source": [
    "The below configuration lets you automatically connect a Python runner to each workspace. (Restart is necessary for this to be taken in account).\n",
    "You can still configure your runners individually, which will override the below Global Runner configuration."
   ]
  },
  {
   "cell_type": "code",
   "execution_count": null,
   "id": "9d4de38b-2756-4468-afcd-6cc1f8995c91",
   "metadata": {},
   "outputs": [],
   "source": [
    "cmd.replace_configuration('GlobalPythonRunnerConfig', {\n",
    "    'name':'Main runner',\n",
    "    'host':'kawa-script-runner',\n",
    "    'port':8815,\n",
    "    'tls':False,\n",
    "    'enabled':True\n",
    "})\n"
   ]
  },
  {
   "cell_type": "markdown",
   "id": "9566ae7d-0ddf-43c1-8e07-414357d987de",
   "metadata": {
    "tags": []
   },
   "source": [
    "## 7. Configure SSO (optional)\n",
    "\n",
    "### 7.a Option 1: Open ID Connect (OIDC)\n",
    "\n",
    "KAWA supports OIDC based SSO authentication. \n",
    "Make sure to have configured your application integration on the identity provider. \n",
    "\n",
    "\n",
    "Please refer to the documentation that matches your IDP:\n",
    "\n",
    "- [OKTA](https://github.com/kawa-analytics/kawa-docker-install/blob/main/documentation/CONFIGURE_OIDC_WITH_OKTA.md)\n",
    "\n",
    "__Please note that the server needs to be restarted for the Authentication parameters to be taken in account.__"
   ]
  },
  {
   "cell_type": "code",
   "execution_count": null,
   "id": "fbe78afe-996d-4bd8-8814-364990abcbdc",
   "metadata": {
    "tags": []
   },
   "outputs": [],
   "source": [
    "cmd.replace_configuration('OAuth2ClientConfiguration', {\n",
    "    'clientId': '******', \n",
    "    'openidIssuer': 'https://{your subdomain}.okta.com/oauth2/default',\n",
    "    'clientHost': 'https://{kawa url}', \n",
    "})"
   ]
  },
  {
   "cell_type": "markdown",
   "id": "38f6107d",
   "metadata": {},
   "source": [
    "The following additional parameters are supported:\n",
    "\n",
    "- *userIdField*: Specify which field will be used from the user info  to determine the user's unique id. The default value is `sub`. If you wish to load the unique id of the user from their email addresses, you can set it to `email`.\n",
    "\n",
    "- *stateValidationEnabled*: Defaults to `true` (It is recommended to leave it to `true` for additional security)\n",
    "\n",
    "- *emailMustBeVerified*: Defaults to `true`. Set it to `false` if you want to skip this verification. \n",
    "\n",
    "- *offlineAccessScope*: Defaults to `true`. Some implementations of OIDC require this to be set to true to work with refreshTokens (ie: OKTA). Some other implementation do not support it (ie: AWS COGNITO)."
   ]
  },
  {
   "cell_type": "code",
   "execution_count": null,
   "id": "396cd56a",
   "metadata": {},
   "outputs": [],
   "source": [
    "# Below is an example working with AWS Cognito, disabling the email verification and offlineAccessScope scope.\n",
    "cmd.replace_configuration('OAuth2ClientConfiguration', {\n",
    "    'clientId': '******', \n",
    "    'openidIssuer': 'https://{your subdomain}.okta.com/oauth2/default',\n",
    "    'clientHost': 'https://{kawa url}', \n",
    "    'offlineAccessScope': False, \n",
    "    'userIdField': 'email',\n",
    "    'emailMustBeVerified': False,   \n",
    "})"
   ]
  },
  {
   "cell_type": "markdown",
   "id": "53dff69c-db21-4a92-98f0-bd5fde80b54e",
   "metadata": {},
   "source": [
    "## 8. Configure connection to OPEN AI (optional)\n",
    "\n",
    "This will allow KAWA to connect to OPEN AI APIs (Such as the assistant API and the chat API).\n",
    "\n",
    "\n",
    "__Please note that the server needs to be restarted for the Open Ai configuration to be taken in account.__"
   ]
  },
  {
   "cell_type": "code",
   "execution_count": null,
   "id": "b527bcf1-a28c-4112-9f07-6c08a7e9c1d1",
   "metadata": {},
   "outputs": [],
   "source": [
    "cmd.replace_configuration('OpenAiConfiguration', {\n",
    "    'activated': True, \n",
    "    'openAiApiKey': 'sk-.........',\n",
    "})"
   ]
  },
  {
   "cell_type": "markdown",
   "id": "061d42b8-f4aa-4ae1-a401-99d515cdcbb6",
   "metadata": {},
   "source": [
    "## 9. Configure API keys restrictions\n",
    "\n",
    "This lets you define the maximum lifespan of the generated API keys. All API keys with a lifespan longer than this will be rejected.\n",
    "The default value is: 365 days.\n"
   ]
  },
  {
   "cell_type": "code",
   "execution_count": null,
   "id": "2efb1041-9478-4845-88cd-c2679a169b3d",
   "metadata": {
    "tags": []
   },
   "outputs": [],
   "source": [
    "cmd.replace_configuration('ApiKeyConfiguration', {\n",
    "    'maximumLifespanInDays': 2\n",
    "})"
   ]
  }
 ],
 "metadata": {
  "kernelspec": {
   "display_name": "Python 3 (ipykernel)",
   "language": "python",
   "name": "python3"
  },
  "language_info": {
   "codemirror_mode": {
    "name": "ipython",
    "version": 3
   },
   "file_extension": ".py",
   "mimetype": "text/x-python",
   "name": "python",
   "nbconvert_exporter": "python",
   "pygments_lexer": "ipython3",
   "version": "3.10.13"
  }
 },
 "nbformat": 4,
 "nbformat_minor": 5
}
