{
 "cells": [
  {
   "cell_type": "markdown",
   "id": "67f20201-92df-4134-9a24-dace3caeb15a",
   "metadata": {},
   "source": [
    "## Load the License into the KAWA platform\n",
    "\n",
    "The license file is a JSON file with this structure:\n",
    "\n",
    "```json\n",
    "{\n",
    "    \"mainContactEmailAddress\": \"bruce@wayne.com\",\n",
    "    \"licenseDescription\": \"2025 Licensee\",\n",
    "    \"licenceId\": \"WA-2025\",\n",
    "    \"companyName\": \"Wayne Enterprises Corp.\",\n",
    "    \"gracePeriodInDays\": 30,\n",
    "    \"from\": \"2025-01-01\",\n",
    "    \"to\": \"2025-12-31\",\n",
    "    \"base64Signature\": \"...\"\n",
    "}\n",
    "```\n",
    "\n",
    "Use the following snipper to load your license into KAWA, using the API token from your environment variables.\n",
    "(Refer to the main README for more details about that - 1.a Configure credentials)."
   ]
  },
  {
   "cell_type": "code",
   "execution_count": null,
   "id": "14718cc4-6a67-4ed8-899d-a3571ec182c6",
   "metadata": {
    "tags": []
   },
   "outputs": [],
   "source": [
    "import os.path\n",
    "print('Please fill in the path to your license file:')\n",
    "path_to_license = input()\n",
    "\n",
    "if not os.path.isfile(path_to_license):\n",
    "    print(f'The specified license file: {path_to_license} does not exist')\n",
    "else:\n",
    "    from kywy.client.kawa_client import KawaClient as K\n",
    "    kawa = K.load_client_from_environment()\n",
    "    kawa.commands.set_license(path_to_license_file=path_to_license)"
   ]
  }
 ],
 "metadata": {
  "kernelspec": {
   "display_name": "Python 3 (ipykernel)",
   "language": "python",
   "name": "python3"
  },
  "language_info": {
   "codemirror_mode": {
    "name": "ipython",
    "version": 3
   },
   "file_extension": ".py",
   "mimetype": "text/x-python",
   "name": "python",
   "nbconvert_exporter": "python",
   "pygments_lexer": "ipython3",
   "version": "3.10.13"
  }
 },
 "nbformat": 4,
 "nbformat_minor": 5
}
