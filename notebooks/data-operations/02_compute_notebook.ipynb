{
 "cells": [
  {
   "cell_type": "markdown",
   "id": "5fea96a3-d168-4f76-a9d5-df28a42623d0",
   "metadata": {
    "tags": []
   },
   "source": [
    "# Computation API\n",
    "\n",
    "The computation API allows you to send computation queries to KAWA using a syntax similar to Spark or Snowpark.\n",
    "It was built to work with any data warehouse. \n",
    "It lets you compose complex workloads to be executed on the warehouse. In that way, only the necessary data will be loaded\n",
    "in the memory of your Python runtime as a pandas dataframe for further manipulation.\n",
    "\n",
    "It exposes operators such as:\n",
    "- Grouping\n",
    "- Sampling\n",
    "- Filtering (Both at row and group level)\n",
    "- Aggregating\n",
    "- Sorting\n",
    "- Limiting\n",
    "- Arithmetic, logic etc operations both on row and group levels\n",
    "- ...\n",
    "\n"
   ]
  },
  {
   "cell_type": "markdown",
   "id": "420f23f4-ee2b-40b2-9f57-e1fceccbe525",
   "metadata": {
    "tags": []
   },
   "source": [
    "## 1. Setup\n",
    "\n",
    "### 1.a Connect to your KAWA instance"
   ]
  },
  {
   "cell_type": "code",
   "execution_count": 1,
   "id": "896d4ba9-8393-4f9f-a404-858c7fa907be",
   "metadata": {
    "tags": []
   },
   "outputs": [
    {
     "name": "stdout",
     "output_type": "stream",
     "text": [
      "Authentication successful on http://localhost:8080, in workspace 75\n"
     ]
    }
   ],
   "source": [
    "from kywy.client.kawa_client import KawaClient as K\n",
    "\n",
    "kawa = K.load_client_from_environment()\n",
    "cmd = kawa.commands"
   ]
  },
  {
   "cell_type": "markdown",
   "id": "eb2ebb9c-9b89-4fdc-a31d-4d82e867dde8",
   "metadata": {
    "tags": []
   },
   "source": [
    "\n",
    "### 1.b Generate a sample data set\n",
    "\n",
    "This cell will load some demo data into your KAWA instance to illustrate the Computation API's capacities.\n",
    "Feel free to adapt the follwing cells to your own dataset."
   ]
  },
  {
   "cell_type": "code",
   "execution_count": 27,
   "id": "3945a036-a2cb-433f-b705-fcbc8da097f4",
   "metadata": {
    "tags": []
   },
   "outputs": [
    {
     "name": "stdout",
     "output_type": "stream",
     "text": [
      "Starting an ingestion session with id=666848b2-3934-41d9-8526-3de92b5e99fe\n",
      "> Exporting the dataframe into 1 parquet file\n",
      "> Starting 1 loading threads\n",
      "> Streaming file /var/folders/rl/6bqlws416nz6z2298zxq22zc0000gn/T/b8dc173a-09a5-42db-84ff-d93495652a58/9f6290f05ba94d2ab9b7835fa6a66643-0.parquet to KAWA\n",
      "> 5 rows were imported in 0.03616476058959961ms\n",
      "> Import was successfully finalized\n",
      "Sheet Computation API sandbox was created: http://localhost:8080/workspaces/75/sheets/2518/views/22266\n"
     ]
    }
   ],
   "source": [
    "# Creates a sample dataset to illustrate the API behaviour\n",
    "import pandas as pd\n",
    "import zoneinfo\n",
    "\n",
    "from uuid import uuid4\n",
    "from datetime import date, datetime, time\n",
    "\n",
    "def utc(year, month, day, hour, minute, second):\n",
    "    return datetime(year, month, day, hour, minute, second, tzinfo=zoneinfo.ZoneInfo('UTC'))\n",
    "\n",
    "sample_orders_df = pd.DataFrame({\n",
    "    'id': [1, 2, 3, 4, 5],\n",
    "    'flag': [True, False, False, False, False],\n",
    "    'comment': ['Sold 10 items', 'Sold 20 items', 'Sold 100 items', 'Sold 1 items', 'Sold 1 items'],\n",
    "    'price': [1.124, 2.228, 10.124, 0.1, 0.1],\n",
    "    'order_date': [date(2035, 1, 1), date(2035, 1, 2), date(2035, 3, 3), date(2035, 3, 6), date(2035, 3, 7)],\n",
    "    'update': [utc(2035, 1, 1, 23, 45, 6), utc(2035, 1, 2, 3, 45, 6), utc(2035, 3, 3, 5, 2, 1), utc(2035, 1, 2, 3, 45, 6), utc(2035, 3, 7, 7, 2, 7)],\n",
    "    'client': ['Wayne Enterprises', 'Wayne Enterprises', 'Wonka', 'Cyberdyne Systems', 'Cyberdyne Systems']\n",
    "})\n",
    "\n",
    "loader = kawa.new_data_loader(\n",
    "    df=sample_orders_df, \n",
    "    datasource_name='Computation API sandbox' \n",
    ")\n",
    "\n",
    "loader.create_datasource(primary_keys=['id'])\n",
    "ds = loader.load_data( create_sheet=True, reset_before_insert=True)\n",
    "\n",
    "sample_orders_df\n",
    "datasource_id = ds['id']"
   ]
  },
  {
   "cell_type": "markdown",
   "id": "20f44db4-f81b-4175-b895-10d589ad260e",
   "metadata": {
    "tags": []
   },
   "source": [
    "## 2. The computation DSL\n",
    "\n",
    "This will perform computations on a given sheet, inheriting all the row/column level security, as well as the datasource and sheet level filters.\n",
    "\n",
    " ### 2.a Simple example\n",
    "\n",
    "In its simplest form, this DSL can be used to select all the rows and all the columns of a sheet as below:"
   ]
  },
  {
   "cell_type": "code",
   "execution_count": null,
   "id": "362c3694-dc7f-412e-9177-ba9b3427e1bf",
   "metadata": {
    "tags": []
   },
   "outputs": [],
   "source": [
    "# Build the query (no computation is done at this point)\n",
    "query = (kawa\n",
    "         .sheet(\n",
    "             sheet_name='Computation API sandbox', \n",
    "             force_tz='UTC',\n",
    "         )\n",
    "         .select(K.cols()))\n",
    "\n",
    "# Send the query to KAWA and returns a pandas df\n",
    "query.compute()"
   ]
  },
  {
   "cell_type": "markdown",
   "id": "8bfa8f67-c0ca-4f7c-9d83-078998212698",
   "metadata": {},
   "source": [
    "It is also possible to query data by `sheet_id` and `datasource_id`. This is recommended for additional stability, in particular when many users can change the name of the sheet you are working with."
   ]
  },
  {
   "cell_type": "code",
   "execution_count": null,
   "id": "dcbf623f-d28e-4251-ad8c-a35ad2d1d469",
   "metadata": {
    "tags": []
   },
   "outputs": [],
   "source": [
    "# Compute all rows and columns from a sheet.\n",
    "# You can retrieve the id of the sheet by using the GUI and looking at the id in the URL\n",
    "# For example: https://wayne.kawa.ai/workspaces/75/sheets/2425/views/22127 --> This is sheet 2425\n",
    "kawa.sheet(sheet_id='.. sheet id here ..').select(K.cols()).no_limit().compute()\n",
    "\n",
    "\n",
    "# Compute all rows and columns from a datasource.\n",
    "# You can retrieve the id of the datasource by using the GUI and looking at the id in the URL\n",
    "# For example: https://wayne.kawa.ai/workspaces/75/datasources/2425 --> This is datasource 2425\n",
    "kawa.datasource(datasource_id='.. datasource id here ..').select(K.cols()).no_limit().compute()\n",
    "\n"
   ]
  },
  {
   "cell_type": "markdown",
   "id": "88f0389c-5ba6-43c8-98c2-57b6122a670e",
   "metadata": {
    "tags": []
   },
   "source": [
    "### 2.b using group_by and aggregations\n",
    "\n",
    "The `group_by` operator lets you specify which columns you want to group your data on.\n",
    "\n",
    "When using this operator, you can specify aggregations on the columns you select.\n",
    "\n",
    "The available aggregations are the following:\n",
    "The __first__ aggregation is available for all types.\n",
    "\n",
    "__decimal and integer:__\n",
    "- sum \n",
    "- avg, median\n",
    "- min, max. min_abs, max_abs\n",
    "- var_sample, var_pop, std_dev_sample, std_dev_pop\n",
    "- lowest_decile, lowest_quartile, highest_decile, highest_quartile\n",
    "\n",
    "__text and boolean:__\n",
    "- count, count_unique, percent_filled, percent_empty, count_empty\n",
    "- identical, identical_ignore_empty\n",
    "\n",
    "__date and date_time:__\n",
    "- min, max\n",
    "- identical\n",
    "- count_unique"
   ]
  },
  {
   "cell_type": "code",
   "execution_count": null,
   "id": "1a90d484-67a8-4fca-a2f5-50a4b70af73c",
   "metadata": {
    "tags": []
   },
   "outputs": [],
   "source": [
    "# Example with one level of grouping\n",
    "(kawa\n",
    "  .sheet(\n",
    "      sheet_name='Computation API sandbox', \n",
    "      force_tz='UTC',\n",
    "  )\n",
    "  .select(\n",
    "      # Add an aggregation on the columns\n",
    "      K.col('id').count(),\n",
    "      K.col('price').sum(),\n",
    "      K.col('update').max(),\n",
    "      K.col('order_date').first(),\n",
    "  )\n",
    "  .group_by('client')\n",
    " \n",
    ").compute()"
   ]
  },
  {
   "cell_type": "code",
   "execution_count": null,
   "id": "3b7fe991-8a11-4fea-8554-afb8315fa2fe",
   "metadata": {
    "tags": []
   },
   "outputs": [],
   "source": [
    "# Example with two levels of grouping\n",
    "# Notice the grouping(N) columns that are added to the resulting dataframe\n",
    "(kawa\n",
    "  .sheet(\n",
    "      sheet_name='Computation API sandbox', \n",
    "      force_tz='UTC',\n",
    "  )\n",
    "  .select(\n",
    "      K.col('id').count(),\n",
    "      K.col('price').sum(),\n",
    "      K.col('update').max(),\n",
    "      K.col('order_date').first(),\n",
    "  )\n",
    "  .group_by('client', 'flag')\n",
    " \n",
    ").compute(use_group_names=True)"
   ]
  },
  {
   "cell_type": "markdown",
   "id": "4b998f9c-b342-4bd5-8233-1ea90f2da9a5",
   "metadata": {
    "tags": []
   },
   "source": [
    "### 2.c using upsampling and data binning\n",
    "\n",
    "When grouping by __date__, __date_time__, __integer__ or __decimal__ columns, you can specify upsampling/binning.\n",
    "\n",
    "Here are the available samplers:\n",
    "\n",
    "\n",
    "__date:__ \n",
    "- WEEK\n",
    "- MONTH\n",
    "- QUARTER\n",
    "- SEMESTER\n",
    "- YEAR\n",
    "- YEAR_AND_WEEK\n",
    "- YEAR_AND_MONTH\n",
    "- YEAR_AND_QUARTER\n",
    "- YEAR_AND_SEMESTER\n",
    "- DAY_OF_YEAR\n",
    "- DAY_OF_WEEK\n",
    "\n",
    "__date_time:__ \n",
    "Same as for date plus:\n",
    "- DAY\n",
    "- TWELVE_HOURS\n",
    "- SIX_HOURS\n",
    "- HOUR\n",
    "- THIRTY_MINUTES\n",
    "- TWENTY_MINUTES\n",
    "- FIFTEEN_MINUTES\n",
    "- TEN_MINUTES\n",
    "- FIVE_MINUTES\n",
    "- MINUTE\n",
    "- THIRTY_SECONDS\n",
    "\n",
    "\n",
    "When extracting the date from datetime objects, the result will depend on the Timezone. Cf examples below.\n",
    "\n",
    "Those are computed in your local timezone by default or in the timezone you specify when building the sheet object.\n",
    "\n",
    "\n",
    "__decimal and integer:__ (data binning)\n",
    "- FIXED_NUMBER_OF_BINS (with extra argument: `how_many_buckets`)\n",
    "- LIST_OF_BINS (with extra argument: `buckets`)\n",
    "- FIXED_SIZE_BINS (with extra argument: `bucket_size`)\n",
    "\n"
   ]
  },
  {
   "cell_type": "code",
   "execution_count": null,
   "id": "67ab668c-f6b9-4129-817e-79b5643bc2fa",
   "metadata": {
    "tags": []
   },
   "outputs": [],
   "source": [
    "(kawa\n",
    "  .sheet(\n",
    "      sheet_name='Computation API sandbox', \n",
    "      force_tz='UTC',\n",
    "  )\n",
    "  .select(\n",
    "      K.col('id').count(),\n",
    "      K.col('price').sum(),\n",
    "      K.col('order_date').max(),\n",
    "      K.col('flag').first(),\n",
    "  )\n",
    "  # Add upsampling per month on the order date\n",
    "  .sample(\n",
    "      sampler='YEAR_AND_MONTH', \n",
    "      column_name='order_date',\n",
    "  )\n",
    " .group_by('order_date')\n",
    " \n",
    ").compute()"
   ]
  },
  {
   "cell_type": "code",
   "execution_count": null,
   "id": "0b0fa04f-fe6c-43ad-81ef-e166741da1e1",
   "metadata": {
    "tags": []
   },
   "outputs": [],
   "source": [
    "# Upsampling that is TZ dependant: in UTC\n",
    "(kawa\n",
    "  .sheet(\n",
    "      sheet_name='Computation API sandbox', \n",
    "      force_tz='UTC',\n",
    "  )\n",
    "  .select(K.col('update').count())\n",
    "  .sample(\n",
    "      sampler='DAY', \n",
    "      column_name='update',\n",
    "  )\n",
    " .group_by('update')\n",
    " \n",
    ").compute()"
   ]
  },
  {
   "cell_type": "code",
   "execution_count": null,
   "id": "a691529c-9972-4d93-8862-1b34653b5b20",
   "metadata": {
    "tags": []
   },
   "outputs": [],
   "source": [
    "# Upsampling that is TZ dependant: in NY\n",
    "(kawa\n",
    "  .sheet(\n",
    "      sheet_name='Computation API sandbox', \n",
    "      force_tz='America/New_York',\n",
    "  )\n",
    "  .select(K.col('update').count())\n",
    "  .sample(\n",
    "      sampler='DAY', \n",
    "      column_name='update',\n",
    "  )\n",
    " .group_by('update')\n",
    " \n",
    ").compute()"
   ]
  },
  {
   "cell_type": "code",
   "execution_count": null,
   "id": "36b006c7-7a94-448f-9b91-ecf3837a02b6",
   "metadata": {
    "tags": []
   },
   "outputs": [],
   "source": [
    "(kawa\n",
    "  .sheet(\n",
    "      sheet_name='Computation API sandbox', \n",
    "      # When doing date_time upsampling, the usage force_tz is recommended\n",
    "      # to explicietely defining in which TZ the sampling will be defined\n",
    "      force_tz='UTC',\n",
    "  )\n",
    "  .select(\n",
    "      K.col('id').count(),\n",
    "      K.col('price').avg(),\n",
    "      K.col('order_date').max(),\n",
    "      K.col('flag').first(),\n",
    "  )\n",
    "  .sample(\n",
    "      sampler='TWENTY_MINUTES', \n",
    "      column_name='update',\n",
    "  )\n",
    " .group_by('update')\n",
    " \n",
    ").compute()"
   ]
  },
  {
   "cell_type": "code",
   "execution_count": null,
   "id": "73707a72-2dc4-4858-9a30-d8bc15e8d858",
   "metadata": {
    "tags": []
   },
   "outputs": [],
   "source": [
    "(kawa\n",
    "  .sheet(\n",
    "      sheet_name='Computation API sandbox', \n",
    "      force_tz='UTC',\n",
    "  )\n",
    "  .select(\n",
    "      K.col('id').count(),\n",
    "      K.col('price').avg(),\n",
    "      K.col('order_date').max(),\n",
    "      K.col('flag').first(),\n",
    "  )\n",
    "  # specify a list of buckets\n",
    "  .sample(\n",
    "      sampler='LIST_OF_BINS', \n",
    "      column_name='price',\n",
    "      buckets=[0,1,10],\n",
    "  )\n",
    " .group_by('price')\n",
    " \n",
    ").compute()"
   ]
  },
  {
   "cell_type": "markdown",
   "id": "fd53840e-c296-408e-a61e-dbe57b7cb8c2",
   "metadata": {
    "tags": []
   },
   "source": [
    "### 2.d using order_by and limit\n",
    "\n",
    "Those two operators can help selecting TOP or WORST performers according to a given metric.\n",
    "Please note that if you omit the `limit` operator, it will be automacically set to 100.\n",
    "If you want to load data without limit, use the `no_limit()` operator (or alternatively, specify a negative number in the limit operator)."
   ]
  },
  {
   "cell_type": "code",
   "execution_count": null,
   "id": "1206b920-b602-4f26-91f0-540ee38d5c64",
   "metadata": {
    "tags": []
   },
   "outputs": [],
   "source": [
    "# Example of query to get the top 1 week for total price\n",
    "(kawa\n",
    "  .sheet(\n",
    "      sheet_name='Computation API sandbox', \n",
    "      force_tz='UTC',\n",
    "  )\n",
    "  .select(\n",
    "      K.col('id').count(),\n",
    "      K.col('price').sum(),\n",
    "      K.col('order_date').max(),\n",
    "      K.col('flag').first(),\n",
    "  )\n",
    "  .sample(\n",
    "      sampler='YEAR_AND_WEEK', \n",
    "      column_name='order_date',\n",
    "  )\n",
    " .group_by('order_date')\n",
    " .limit(1)\n",
    " .order_by(column_name='price', ascending=False)\n",
    " \n",
    ").compute()"
   ]
  },
  {
   "cell_type": "markdown",
   "id": "f742ab1f-f362-4723-83f1-d1bce1cab10d",
   "metadata": {},
   "source": [
    "### 2.e special syntax: group_by(1)\n",
    "\n",
    "Use this syntax to retrieve the global aggregation of the entire dataset.\n",
    "You can also use aliases when you select multiple times the same column with different aggregations"
   ]
  },
  {
   "cell_type": "code",
   "execution_count": null,
   "id": "f7aef00c-5042-43d2-90e1-d717c3e1a87f",
   "metadata": {
    "tags": []
   },
   "outputs": [],
   "source": [
    "(kawa\n",
    "  .sheet(\n",
    "      sheet_name='Computation API sandbox', \n",
    "      force_tz='UTC',\n",
    "  )\n",
    "  .select(\n",
    "      K.col('price').sum().alias('total price'),\n",
    "      K.col('price').avg().alias('avg price'),\n",
    "      K.col('price').median().alias('median price'),\n",
    "  )\n",
    " .group_by('1')\n",
    ").compute()"
   ]
  },
  {
   "cell_type": "markdown",
   "id": "cf520f45-ff3a-4cef-822d-8533f9b7e9ad",
   "metadata": {
    "tags": []
   },
   "source": [
    "### 2.f filtering\n",
    "\n",
    "In order to filter your data, use the `filter` operator."
   ]
  },
  {
   "cell_type": "markdown",
   "id": "b20ce2ba-8dc1-4b2e-9d9a-58dee7e1407c",
   "metadata": {},
   "source": [
    "#### 2.f.1 Text filtering\n",
    "\n",
    "Text filters are case-insensitive.\n",
    "Multiple operators are available to filter text columns:\n",
    "\n",
    "- `eq`\n",
    "- `ne`\n",
    "- `ends_with` / `does_not_end_with`\n",
    "- `starts_with` / `does_not_start_with`\n",
    "- `contains` / `does_not_contain`\n",
    "- `in_list` (Is case sensitive)\n"
   ]
  },
  {
   "cell_type": "code",
   "execution_count": null,
   "id": "67b65cd2-5872-4f38-a833-4ffed56779fd",
   "metadata": {
    "tags": []
   },
   "outputs": [],
   "source": [
    "(kawa\n",
    "  .sheet(sheet_name='Computation API sandbox')\n",
    "  .select(K.col('client'))\n",
    "  .filter(K.col('client').eq('wonka'))\n",
    ").compute()"
   ]
  },
  {
   "cell_type": "code",
   "execution_count": null,
   "id": "f711ee96-e877-4305-a8bf-7652a2f61c58",
   "metadata": {
    "tags": []
   },
   "outputs": [],
   "source": [
    "(kawa\n",
    "  .sheet(sheet_name='Computation API sandbox')\n",
    "  .select(K.col('client'))\n",
    "  .filter(K.col('client').ne('wonka'))\n",
    ").compute()"
   ]
  },
  {
   "cell_type": "code",
   "execution_count": null,
   "id": "269544df-5b2f-4216-b1ca-5287ca8ecbc1",
   "metadata": {
    "tags": []
   },
   "outputs": [],
   "source": [
    "(kawa\n",
    "  .sheet(sheet_name='Computation API sandbox')\n",
    "  .select(K.col('client'))\n",
    "  .filter(K.col('client').ends_with('s'))\n",
    ").compute()"
   ]
  },
  {
   "cell_type": "code",
   "execution_count": null,
   "id": "0b67a91a-d997-47d2-9a2c-c4fc7a14c4f5",
   "metadata": {
    "tags": []
   },
   "outputs": [],
   "source": [
    "(kawa\n",
    "  .sheet(sheet_name='Computation API sandbox')\n",
    "  .select(K.col('client'))\n",
    "  .filter(K.col('client').in_list(['Wonka', 'Wayne Enterprises']))\n",
    ").compute()"
   ]
  },
  {
   "cell_type": "markdown",
   "id": "b55dd864-e852-47b4-b6af-800090b0250e",
   "metadata": {
    "tags": []
   },
   "source": [
    "#### 2.f.2 Number filtering\n",
    "\n",
    "Multiple operators are available to filter numeric columns:\n",
    "\n",
    "- `eq`\n",
    "- `ne`\n",
    "- `lt` / `lte` (Lesser than / Lesser than or equal)\n",
    "- `gt` / `gte` (Greater than / Greater than or equal)"
   ]
  },
  {
   "cell_type": "code",
   "execution_count": null,
   "id": "9cf23f15-1f93-482b-a3a9-70da85f8bf3b",
   "metadata": {
    "tags": []
   },
   "outputs": [],
   "source": [
    "(kawa\n",
    "  .sheet(sheet_name='Computation API sandbox')\n",
    "  .select(K.col('price'))\n",
    "  .filter(K.col('price').gt(2))\n",
    "  .filter(K.col('price').lt(10))\n",
    ").compute()"
   ]
  },
  {
   "cell_type": "markdown",
   "id": "fb79a8bb-7895-491d-bf9b-fe69379854cf",
   "metadata": {},
   "source": [
    "#### 2.f.3 Temporal filtering\n",
    "\n",
    "The following three operators are available to filter temporal columns:\n",
    "\n",
    "- `time_range()` (Time range filters depend on the timezone!)\n",
    "- `date_range()`\n",
    "- `datetime_range()`\n",
    "\n",
    "When computing, the timezone of your python runtime will be assumed (ouptput of `tzlocal.get_localzone()`), unless you specify it explicitely in the `force_tz` argument (see below for examples).\n",
    "\n"
   ]
  },
  {
   "cell_type": "code",
   "execution_count": null,
   "id": "896392a3-6d39-49f4-8696-85324df0b26a",
   "metadata": {
    "tags": []
   },
   "outputs": [],
   "source": [
    "# Time filter in the UTC timezone\n",
    "(kawa\n",
    "  .sheet(\n",
    "      sheet_name='Computation API sandbox',\n",
    "      force_tz='UTC',\n",
    "  )\n",
    "  .select(K.cols())\n",
    "  .filter(K.col('update').time_range(\n",
    "      from_inclusive=time(3,0), \n",
    "      to_inclusive=time(4,0))\n",
    "  )\n",
    "  .order_by('update')\n",
    ").compute()"
   ]
  },
  {
   "cell_type": "code",
   "execution_count": null,
   "id": "605fa565-c636-49d0-b812-f00b793c06b5",
   "metadata": {
    "tags": []
   },
   "outputs": [],
   "source": [
    "# Time filter in the New York timezone\n",
    "(kawa\n",
    "  .sheet(\n",
    "      sheet_name='Computation API sandbox',\n",
    "       force_tz='America/New_York',\n",
    "  )\n",
    "  .select(K.cols())\n",
    "  .filter(K.col('update').time_range(\n",
    "      from_exclusive=time(22,0), \n",
    "      to_exclusive=time(23,0))\n",
    "  )\n",
    "  .order_by('update')\n",
    ").compute()"
   ]
  },
  {
   "cell_type": "code",
   "execution_count": null,
   "id": "8d61b115-3454-46a3-b018-9f1ff72af508",
   "metadata": {
    "tags": []
   },
   "outputs": [],
   "source": [
    "# Date time filter in the UTC timezone\n",
    "(kawa\n",
    "  .sheet(\n",
    "      sheet_name='Computation API sandbox',\n",
    "      force_tz='UTC',\n",
    "  )\n",
    "  .select(K.cols())\n",
    "  .filter(K.col('update').datetime_range(\n",
    "      from_inclusive=utc(2035, 1, 1, 23, 45, 6), \n",
    "      to_inclusive=utc(2035, 1, 2, 3, 45, 6))\n",
    "  )\n",
    "  .order_by('update')\n",
    ").compute()"
   ]
  },
  {
   "cell_type": "code",
   "execution_count": null,
   "id": "9b737de2-2c16-47fe-98c9-af919bd4f09d",
   "metadata": {
    "tags": []
   },
   "outputs": [],
   "source": [
    "# Date time filter in the New York timezone. The same rows will be returned, shown in the correct TZ\n",
    "# (The datetimes of the filter do not depend on the computation TZ, they are defined in UTC)\n",
    "(kawa\n",
    "  .sheet(\n",
    "      sheet_name='Computation API sandbox',\n",
    "      force_tz='America/New_York',\n",
    "  )\n",
    "  .select(K.cols())\n",
    "  .filter(K.col('update').datetime_range(\n",
    "      from_inclusive=utc(2035, 1, 1, 23, 45, 6), \n",
    "      to_inclusive=utc(2035, 1, 2, 3, 45, 6))\n",
    "  )\n",
    "  .order_by('update')\n",
    ").compute()"
   ]
  },
  {
   "cell_type": "code",
   "execution_count": null,
   "id": "40b0eadd-10d9-47ee-b5e5-12e1f4224618",
   "metadata": {
    "tags": []
   },
   "outputs": [],
   "source": [
    "# Date filters, they do not depend on the Timezone. Dates are local dates.\n",
    "(kawa\n",
    "  .sheet(\n",
    "      sheet_name='Computation API sandbox',\n",
    "      force_tz='UTC',\n",
    "  )\n",
    "  .select(K.cols())\n",
    "  .filter(K.col('order_date').date_range(\n",
    "      from_inclusive=date(2035, 1, 1), \n",
    "      to_inclusive=date(2035, 1, 2))\n",
    "  )\n",
    "  .order_by('update')\n",
    ").compute()"
   ]
  },
  {
   "cell_type": "markdown",
   "id": "f0ee617b-c08d-4489-acae-ece877618626",
   "metadata": {},
   "source": [
    "#### 2.f.4 Filter composition\n",
    "\n",
    "Filters can be chained in tow ways to obtain AND/OR compositions.\n",
    "Filters can be excluded using the `exclude` operator. "
   ]
  },
  {
   "cell_type": "code",
   "execution_count": null,
   "id": "b6deb973-c0f9-472f-af5d-4d2f28065ab2",
   "metadata": {
    "tags": []
   },
   "outputs": [],
   "source": [
    "# OR composition\n",
    "(kawa\n",
    "  .sheet(sheet_name='Computation API sandbox')\n",
    "  .select(K.col('client'))\n",
    "  # Client contains 'wonka' OR client contains 'systems' \n",
    "  .filter(K.col('client').contains('wonka').contains('systems'))\n",
    ").compute()"
   ]
  },
  {
   "cell_type": "code",
   "execution_count": null,
   "id": "cad50996-7ab7-45e1-b956-333bd6915f7d",
   "metadata": {
    "tags": []
   },
   "outputs": [],
   "source": [
    "# AND composition\n",
    "(kawa\n",
    "  .sheet(sheet_name='Computation API sandbox')\n",
    "  .select(K.col('client'))\n",
    "  # Client begins  with 'w' AND ands with  's' \n",
    "  .filter(K.col('client').starts_with('w'))\n",
    "  .filter(K.col('client').ends_with('s'))\n",
    ").compute()"
   ]
  },
  {
   "cell_type": "code",
   "execution_count": null,
   "id": "a4d655e3-d738-4096-b79d-7bf1293ba571",
   "metadata": {
    "tags": []
   },
   "outputs": [],
   "source": [
    "(kawa\n",
    "  .sheet(\n",
    "      sheet_name='Computation API sandbox',\n",
    "      force_tz='UTC',\n",
    "  )\n",
    "  .select(K.cols())\n",
    "  # Use of the exclude operator\n",
    "  .filter(K.col('client').starts_with('w').exclude())\n",
    "  .order_by('update')\n",
    ").compute()"
   ]
  },
  {
   "cell_type": "markdown",
   "id": "9045a830-a13f-49fe-bd08-ca0f4dbd7408",
   "metadata": {},
   "source": [
    "## 3 Run KAWA tools\n",
    "\n",
    "You can use the kawa client to test your tools against your data. You have two options to do so.\n",
    "\n",
    "Here is an example of a simple KAWA tool that computes the length of a text in Python, adding a fix offset to it.\n"
   ]
  },
  {
   "cell_type": "code",
   "execution_count": 8,
   "id": "58b24a69-b2c9-4278-bf50-b3028d35ed39",
   "metadata": {
    "tags": []
   },
   "outputs": [],
   "source": [
    "from kywy.client.kawa_decorators import kawa_tool\n",
    "@kawa_tool(\n",
    "    inputs={'text':str},\n",
    "    outputs={'length':float},\n",
    "    parameters={'offset':{'type':float}},\n",
    ")\n",
    "def kawa_tool(dataframe, offset):        \n",
    "    dataframe['length'] = dataframe['text'].apply(lambda x: int(offset) + len(x))\n",
    "    return dataframe"
   ]
  },
  {
   "cell_type": "markdown",
   "id": "78f49caa-1daf-489f-8541-3531bc2bad28",
   "metadata": {
    "tags": []
   },
   "source": [
    "### 3.1 Run KAWA tools using the computation DSL\n",
    "\n",
    "In order to do so, add the `kawa_tool` stage in your query.\n",
    "This stage takes at least two arguments:\n",
    "\n",
    "- The tool itself (any python function with the @kawa_tool decorator\n",
    "- If the tool has some inputs, you need to specify a mapping (similar to the one in the GUI). It will be used to map columns from your dataframe to the actual inputs of the script. Here, we are mapping the `comment` column to the `text` input of the script.\n",
    "\n",
    "If the tool has parameters, you need to give a value for each of them. Here, we are setting a value for the `offset` parameter."
   ]
  },
  {
   "cell_type": "code",
   "execution_count": 23,
   "id": "6b488001-3e2a-45d9-93b3-3176e597a0c4",
   "metadata": {
    "tags": []
   },
   "outputs": [
    {
     "data": {
      "text/html": [
       "<div>\n",
       "<style scoped>\n",
       "    .dataframe tbody tr th:only-of-type {\n",
       "        vertical-align: middle;\n",
       "    }\n",
       "\n",
       "    .dataframe tbody tr th {\n",
       "        vertical-align: top;\n",
       "    }\n",
       "\n",
       "    .dataframe thead th {\n",
       "        text-align: right;\n",
       "    }\n",
       "</style>\n",
       "<table border=\"1\" class=\"dataframe\">\n",
       "  <thead>\n",
       "    <tr style=\"text-align: right;\">\n",
       "      <th></th>\n",
       "      <th>text</th>\n",
       "      <th>id</th>\n",
       "      <th>length</th>\n",
       "    </tr>\n",
       "  </thead>\n",
       "  <tbody>\n",
       "    <tr>\n",
       "      <th>0</th>\n",
       "      <td>Sold 10 items</td>\n",
       "      <td>1</td>\n",
       "      <td>113</td>\n",
       "    </tr>\n",
       "    <tr>\n",
       "      <th>1</th>\n",
       "      <td>Sold 20 items</td>\n",
       "      <td>2</td>\n",
       "      <td>113</td>\n",
       "    </tr>\n",
       "    <tr>\n",
       "      <th>2</th>\n",
       "      <td>Sold 100 items</td>\n",
       "      <td>3</td>\n",
       "      <td>114</td>\n",
       "    </tr>\n",
       "    <tr>\n",
       "      <th>3</th>\n",
       "      <td>Sold 1 items</td>\n",
       "      <td>4</td>\n",
       "      <td>112</td>\n",
       "    </tr>\n",
       "    <tr>\n",
       "      <th>4</th>\n",
       "      <td>Sold 1 items</td>\n",
       "      <td>5</td>\n",
       "      <td>112</td>\n",
       "    </tr>\n",
       "  </tbody>\n",
       "</table>\n",
       "</div>"
      ],
      "text/plain": [
       "             text  id  length\n",
       "0   Sold 10 items   1     113\n",
       "1   Sold 20 items   2     113\n",
       "2  Sold 100 items   3     114\n",
       "3    Sold 1 items   4     112\n",
       "4    Sold 1 items   5     112"
      ]
     },
     "execution_count": 23,
     "metadata": {},
     "output_type": "execute_result"
    }
   ],
   "source": [
    "query = (kawa\n",
    "    .sheet(sheet_name='Computation API sandbox')\n",
    "    .order_by('id', ascending=True)\n",
    "    .select(K.col('comment'), K.col('id'))\n",
    "    .kawa_tool(kawa_tool=kawa_tool, mapping={'comment': 'text'}, offset=100)\n",
    ")\n",
    "\n",
    "query.compute()"
   ]
  },
  {
   "cell_type": "markdown",
   "id": "410f823c-7dc7-4b28-99f7-1772f38be575",
   "metadata": {},
   "source": [
    "### 3.2 Run KAWA tools directly with the kawa client\n",
    "\n",
    "This is a simpler syntax to run the tool on the raw data (either sheet or directly the datasource)\n",
    "\n"
   ]
  },
  {
   "cell_type": "code",
   "execution_count": 33,
   "id": "dc08d1c6-4150-4c29-b1ae-e17663b0f37b",
   "metadata": {
    "tags": []
   },
   "outputs": [
    {
     "data": {
      "text/html": [
       "<div>\n",
       "<style scoped>\n",
       "    .dataframe tbody tr th:only-of-type {\n",
       "        vertical-align: middle;\n",
       "    }\n",
       "\n",
       "    .dataframe tbody tr th {\n",
       "        vertical-align: top;\n",
       "    }\n",
       "\n",
       "    .dataframe thead th {\n",
       "        text-align: right;\n",
       "    }\n",
       "</style>\n",
       "<table border=\"1\" class=\"dataframe\">\n",
       "  <thead>\n",
       "    <tr style=\"text-align: right;\">\n",
       "      <th></th>\n",
       "      <th>text</th>\n",
       "      <th>length</th>\n",
       "    </tr>\n",
       "  </thead>\n",
       "  <tbody>\n",
       "    <tr>\n",
       "      <th>0</th>\n",
       "      <td>Sold 10 items</td>\n",
       "      <td>8901</td>\n",
       "    </tr>\n",
       "    <tr>\n",
       "      <th>1</th>\n",
       "      <td>Sold 20 items</td>\n",
       "      <td>8901</td>\n",
       "    </tr>\n",
       "    <tr>\n",
       "      <th>2</th>\n",
       "      <td>Sold 100 items</td>\n",
       "      <td>8902</td>\n",
       "    </tr>\n",
       "    <tr>\n",
       "      <th>3</th>\n",
       "      <td>Sold 1 items</td>\n",
       "      <td>8900</td>\n",
       "    </tr>\n",
       "    <tr>\n",
       "      <th>4</th>\n",
       "      <td>Sold 1 items</td>\n",
       "      <td>8900</td>\n",
       "    </tr>\n",
       "  </tbody>\n",
       "</table>\n",
       "</div>"
      ],
      "text/plain": [
       "             text  length\n",
       "0   Sold 10 items    8901\n",
       "1   Sold 20 items    8901\n",
       "2  Sold 100 items    8902\n",
       "3    Sold 1 items    8900\n",
       "4    Sold 1 items    8900"
      ]
     },
     "execution_count": 33,
     "metadata": {},
     "output_type": "execute_result"
    }
   ],
   "source": [
    "kawa.run_tool(\n",
    "    datasource_id=datasource_id, # You can also use: sheet_id\n",
    "    mapping={'comment': 'text'},\n",
    "    tool=kawa_tool,\n",
    "    offset=8888,\n",
    ")"
   ]
  }
 ],
 "metadata": {
  "kernelspec": {
   "display_name": "Python 3 (ipykernel)",
   "language": "python",
   "name": "python3"
  },
  "language_info": {
   "codemirror_mode": {
    "name": "ipython",
    "version": 3
   },
   "file_extension": ".py",
   "mimetype": "text/x-python",
   "name": "python",
   "nbconvert_exporter": "python",
   "pygments_lexer": "ipython3",
   "version": "3.10.16"
  }
 },
 "nbformat": 4,
 "nbformat_minor": 5
}
