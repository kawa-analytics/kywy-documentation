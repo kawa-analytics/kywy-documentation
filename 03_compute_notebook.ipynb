{
 "cells": [
  {
   "cell_type": "markdown",
   "id": "5fea96a3-d168-4f76-a9d5-df28a42623d0",
   "metadata": {
    "tags": []
   },
   "source": [
    "# Computation API"
   ]
  },
  {
   "cell_type": "code",
   "execution_count": null,
   "id": "896d4ba9-8393-4f9f-a404-858c7fa907be",
   "metadata": {
    "tags": []
   },
   "outputs": [],
   "source": [
    "from kywy.client.kawa_client import KawaClient as K\n",
    "\n",
    "kawa = K.load_client_from_environment()\n",
    "cmd = kawa.commands"
   ]
  },
  {
   "cell_type": "code",
   "execution_count": null,
   "id": "3945a036-a2cb-433f-b705-fcbc8da097f4",
   "metadata": {
    "tags": []
   },
   "outputs": [],
   "source": [
    "# Creates a sample dataset to illustrate the API behaviour\n",
    "import pandas as pd\n",
    "import zoneinfo\n",
    "\n",
    "from uuid import uuid4\n",
    "from datetime import date, datetime\n",
    "\n",
    "def utc(year, month, day, hour, minute, second):\n",
    "    return datetime(year, month, day, hour, minute, second, tzinfo=zoneinfo.ZoneInfo('UTC'))\n",
    "\n",
    "sample_orders_df = pd.DataFrame([\n",
    "    {\n",
    "       'id': 1,\n",
    "       'flag':True,\n",
    "       'comment':'Sold 10 items',\n",
    "       'price': 1.124,\n",
    "       'order_date': date(2035,1,1),\n",
    "       'update': utc(2035,1,1,23,45,6),\n",
    "       'client':'Wayne Enterprises',\n",
    "    },\n",
    "    {\n",
    "       'id': 2,\n",
    "       'flag':False,\n",
    "       'comment':'Sold 20 items',\n",
    "       'price': 2.228,\n",
    "       'order_date': date(2035,1,2),\n",
    "       'update': utc(2035,1,2,3,45,6),\n",
    "       'client':'Wayne Enterprises',\n",
    "    },\n",
    "    {\n",
    "       'id': 3,\n",
    "       'flag':False,\n",
    "       'comment':'Sold 100 items',\n",
    "       'price': 10.124,\n",
    "       'order_date': date(2035,3,3),\n",
    "       'update': utc(2035,3,3,5,2,1),\n",
    "       'client':'Wonka',\n",
    "    },\n",
    "    {\n",
    "       'id': 4,\n",
    "       'flag':False,\n",
    "       'comment':'Sold 1 items',\n",
    "       'price': 0.1,\n",
    "       'order_date': date(2035,3,6),\n",
    "       'update': utc(2035,1,2,3,45,6),\n",
    "       'client':'Cyberdyne Systems',\n",
    "    },\n",
    "    {\n",
    "       'id': 5,\n",
    "       'flag':False,\n",
    "       'comment':'Sold 1 items',\n",
    "       'price': 0.1,\n",
    "       'order_date': date(2035,3,7),\n",
    "       'update': utc(2035,3,7,7,2,7),\n",
    "       'client':'Cyberdyne Systems',\n",
    "    },\n",
    "])\n",
    "\n",
    "loader = kawa.new_data_loader(\n",
    "    df=sample_orders_df, \n",
    "    datasource_name='Computation API sandbox' \n",
    ")\n",
    "\n",
    "loader.create_datasource(primary_keys=['id'])\n",
    "\n",
    "loader.load_data(\n",
    "    create_sheet=True,\n",
    "    reset_before_insert=True,\n",
    ");"
   ]
  },
  {
   "cell_type": "markdown",
   "id": "20f44db4-f81b-4175-b895-10d589ad260e",
   "metadata": {
    "tags": []
   },
   "source": [
    "## 1. The computation DSL\n",
    "\n",
    "This will perform computations on a given sheet, inheriting all the row/column level security, as well as the datasource and sheet level filters.\n",
    "\n",
    " ### 1.a Simple example\n",
    "\n",
    "In its simplest form, this DSL can be used to select all the rows and all the columns of a sheet as below:"
   ]
  },
  {
   "cell_type": "code",
   "execution_count": null,
   "id": "362c3694-dc7f-412e-9177-ba9b3427e1bf",
   "metadata": {
    "tags": []
   },
   "outputs": [],
   "source": [
    "# Build the query (no computation is done at this point)\n",
    "query = (kawa\n",
    "         .sheet(\n",
    "             sheet_name='Computation API sandbox', \n",
    "             force_tz='UTC',\n",
    "         )\n",
    "         .select(K.cols()))\n",
    "\n",
    "# Send the query to KAWA and returns a pandas df\n",
    "query.compute()"
   ]
  },
  {
   "cell_type": "markdown",
   "id": "88f0389c-5ba6-43c8-98c2-57b6122a670e",
   "metadata": {
    "tags": []
   },
   "source": [
    "### 1.b using group_by and aggregations\n",
    "\n",
    "The `group_by` operator lets you specify which columns you want to group your data on.\n",
    "\n",
    "When using this operator, you can specify aggregations on the columns you select.\n",
    "\n",
    "The available aggregations are the following:\n",
    "The __first__ aggregation is available for all types.\n",
    "\n",
    "__decimal and integer:__\n",
    "- sum \n",
    "- avg, median\n",
    "- min, max. min_abs, max_abs\n",
    "- var_sample, var_pop, std_dev_sample, std_dev_pop\n",
    "- lowest_decile, lowest_quartile, highest_decile, highest_quartile\n",
    "\n",
    "__text and boolean:__\n",
    "- count, count_unique, percent_filled, percent_empty, count_empty\n",
    "- identical, identical_ignore_empty\n",
    "\n",
    "__date and date_time:__\n",
    "- min, max\n",
    "- identical\n",
    "- count_unique"
   ]
  },
  {
   "cell_type": "code",
   "execution_count": null,
   "id": "1a90d484-67a8-4fca-a2f5-50a4b70af73c",
   "metadata": {
    "tags": []
   },
   "outputs": [],
   "source": [
    "# Example with one level of grouping\n",
    "(kawa\n",
    "  .sheet(\n",
    "      sheet_name='Computation API sandbox', \n",
    "      force_tz='UTC',\n",
    "  )\n",
    "  .select(\n",
    "      # Add an aggregation on the columns\n",
    "      K.col('id').count(),\n",
    "      K.col('price').sum(),\n",
    "      K.col('update').max(),\n",
    "      K.col('order_date').first(),\n",
    "  )\n",
    "  .group_by('client')\n",
    " \n",
    ").compute()"
   ]
  },
  {
   "cell_type": "code",
   "execution_count": null,
   "id": "3b7fe991-8a11-4fea-8554-afb8315fa2fe",
   "metadata": {
    "tags": []
   },
   "outputs": [],
   "source": [
    "# Example with two levels of grouping\n",
    "# Notice the grouping(N) columns that are added to the resulting dataframe\n",
    "(kawa\n",
    "  .sheet(\n",
    "      sheet_name='Computation API sandbox', \n",
    "      force_tz='UTC',\n",
    "  )\n",
    "  .select(\n",
    "      K.col('id').count(),\n",
    "      K.col('price').sum(),\n",
    "      K.col('update').max(),\n",
    "      K.col('order_date').first(),\n",
    "  )\n",
    "  .group_by('client', 'flag')\n",
    " \n",
    ").compute(use_group_names=True)"
   ]
  },
  {
   "cell_type": "markdown",
   "id": "4b998f9c-b342-4bd5-8233-1ea90f2da9a5",
   "metadata": {
    "tags": []
   },
   "source": [
    "### 1.c using upsampling and data binning\n",
    "\n",
    "When grouping by __date__, __date_time__, __integer__ or __decimal__ columns, you can specify upsampling/binning.\n",
    "\n",
    "Here are the available samplers:\n",
    "\n",
    "\n",
    "__date:__ \n",
    "- WEEK\n",
    "- MONTH\n",
    "- QUARTER\n",
    "- SEMESTER\n",
    "- YEAR\n",
    "- YEAR_AND_WEEK\n",
    "- YEAR_AND_MONTH\n",
    "- YEAR_AND_QUARTER\n",
    "- YEAR_AND_SEMESTER\n",
    "- DAY_OF_YEAR\n",
    "- DAY_OF_WEEK\n",
    "\n",
    "__date_time:__ \n",
    "Same as for date plus:\n",
    "- DAY\n",
    "- TWELVE_HOURS\n",
    "- SIX_HOURS\n",
    "- HOUR\n",
    "- THIRTY_MINUTES\n",
    "- TWENTY_MINUTES\n",
    "- FIFTEEN_MINUTES\n",
    "- TEN_MINUTES\n",
    "- FIVE_MINUTES\n",
    "- MINUTE\n",
    "- THIRTY_SECONDS\n",
    "\n",
    "Those are computed in your local timezone by default or in the timezone you specify when building the sheet object.\n",
    "\n",
    "__decimal and integer:__ (data binning)\n",
    "- FIXED_NUMBER_OF_BINS (with extra argument: `how_many_buckets`)\n",
    "- LIST_OF_BINS (with extra argument: `buckets`)\n",
    "- FIXED_SIZE_BINS (with extra argument: `bucket_size`)\n",
    "\n"
   ]
  },
  {
   "cell_type": "code",
   "execution_count": null,
   "id": "67ab668c-f6b9-4129-817e-79b5643bc2fa",
   "metadata": {
    "tags": []
   },
   "outputs": [],
   "source": [
    "(kawa\n",
    "  .sheet(\n",
    "      sheet_name='Computation API sandbox', \n",
    "      force_tz='UTC',\n",
    "  )\n",
    "  .select(\n",
    "      K.col('id').count(),\n",
    "      K.col('price').sum(),\n",
    "      K.col('order_date').max(),\n",
    "      K.col('flag').first(),\n",
    "  )\n",
    "  # Add upsampling per month on the order date\n",
    "  .sample(\n",
    "      sampler='YEAR_AND_MONTH', \n",
    "      column_name='order_date',\n",
    "  )\n",
    " .group_by('order_date')\n",
    " \n",
    ").compute()"
   ]
  },
  {
   "cell_type": "code",
   "execution_count": null,
   "id": "36b006c7-7a94-448f-9b91-ecf3837a02b6",
   "metadata": {
    "tags": []
   },
   "outputs": [],
   "source": [
    "(kawa\n",
    "  .sheet(\n",
    "      sheet_name='Computation API sandbox', \n",
    "      # When doing date_time upsampling, the usage force_tz is recommended\n",
    "      # to explicietely defining in which TZ the sampling will be defined\n",
    "      force_tz='UTC',\n",
    "  )\n",
    "  .select(\n",
    "      K.col('id').count(),\n",
    "      K.col('price').avg(),\n",
    "      K.col('order_date').max(),\n",
    "      K.col('flag').first(),\n",
    "  )\n",
    "  .sample(\n",
    "      sampler='TWENTY_MINUTES', \n",
    "      column_name='update',\n",
    "  )\n",
    " .group_by('update')\n",
    " \n",
    ").compute()"
   ]
  },
  {
   "cell_type": "code",
   "execution_count": null,
   "id": "73707a72-2dc4-4858-9a30-d8bc15e8d858",
   "metadata": {
    "tags": []
   },
   "outputs": [],
   "source": [
    "(kawa\n",
    "  .sheet(\n",
    "      sheet_name='Computation API sandbox', \n",
    "      force_tz='UTC',\n",
    "  )\n",
    "  .select(\n",
    "      K.col('id').count(),\n",
    "      K.col('price').avg(),\n",
    "      K.col('order_date').max(),\n",
    "      K.col('flag').first(),\n",
    "  )\n",
    "  # specify a list of buckets\n",
    "  .sample(\n",
    "      sampler='LIST_OF_BINS', \n",
    "      column_name='price',\n",
    "      buckets=[0,1,10],\n",
    "  )\n",
    " .group_by('price')\n",
    " \n",
    ").compute()"
   ]
  },
  {
   "cell_type": "markdown",
   "id": "fd53840e-c296-408e-a61e-dbe57b7cb8c2",
   "metadata": {
    "tags": []
   },
   "source": [
    "### 1.d using order_by and limit\n",
    "\n",
    "Those two operators can help selecting TOP or WORST performers according to a given metric.\n",
    "Please note that if you omit the `limit` operator, it will be automacically set to 100.\n",
    "If you want to load data without limit, use the `no_limit()` operator (or alternatively, specify a negative number in the limit operator)."
   ]
  },
  {
   "cell_type": "code",
   "execution_count": null,
   "id": "1206b920-b602-4f26-91f0-540ee38d5c64",
   "metadata": {
    "tags": []
   },
   "outputs": [],
   "source": [
    "# Example of query to get the top 1 week for total price\n",
    "(kawa\n",
    "  .sheet(\n",
    "      sheet_name='Computation API sandbox', \n",
    "      force_tz='UTC',\n",
    "  )\n",
    "  .select(\n",
    "      K.col('id').count(),\n",
    "      K.col('price').sum(),\n",
    "      K.col('order_date').max(),\n",
    "      K.col('flag').first(),\n",
    "  )\n",
    "  .sample(\n",
    "      sampler='YEAR_AND_WEEK', \n",
    "      column_name='order_date',\n",
    "  )\n",
    " .group_by('order_date')\n",
    " .limit(1)\n",
    " .order_by(column_name='price', ascending=False)\n",
    " \n",
    ").compute()"
   ]
  },
  {
   "cell_type": "markdown",
   "id": "f742ab1f-f362-4723-83f1-d1bce1cab10d",
   "metadata": {},
   "source": [
    "### 1.e special syntax: group_by(1)\n",
    "\n",
    "Use this syntax to retrieve the global aggregation of the entire dataset.\n",
    "You can also use aliases when you select multiple times the same column with different aggregations"
   ]
  },
  {
   "cell_type": "code",
   "execution_count": null,
   "id": "f7aef00c-5042-43d2-90e1-d717c3e1a87f",
   "metadata": {
    "tags": []
   },
   "outputs": [],
   "source": [
    "(kawa\n",
    "  .sheet(\n",
    "      sheet_name='Computation API sandbox', \n",
    "      force_tz='UTC',\n",
    "  )\n",
    "  .select(\n",
    "      K.col('price').sum().alias('total price'),\n",
    "      K.col('price').avg().alias('avg price'),\n",
    "      K.col('price').median().alias('median price'),\n",
    "  )\n",
    " .group_by('1')\n",
    ").compute()"
   ]
  }
 ],
 "metadata": {
  "kernelspec": {
   "display_name": "Python 3 (ipykernel)",
   "language": "python",
   "name": "python3"
  },
  "language_info": {
   "codemirror_mode": {
    "name": "ipython",
    "version": 3
   },
   "file_extension": ".py",
   "mimetype": "text/x-python",
   "name": "python",
   "nbconvert_exporter": "python",
   "pygments_lexer": "ipython3",
   "version": "3.10.13"
  }
 },
 "nbformat": 4,
 "nbformat_minor": 5
}
